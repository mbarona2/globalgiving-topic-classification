{
 "cells": [
  {
   "cell_type": "markdown",
   "id": "6a146c15",
   "metadata": {},
   "source": [
    "# 3 Preprocessing and Modeling Part 1\n",
    "\n",
    "## 3.1 Contents<a id='3.1_Contents'></a>\n",
    "\n",
    "* [3 Preprocessing and Modeling Part 1](#3_Preprocessing_and_Modeling_Part_1)\n",
    "  * [3.1 Contents](#3.1_Contents)\n",
    "  * [3.2 Introduction](#3.2_Introduction)\n",
    "    * [3.2.1 Recap Of Data Science Problem](#3.2.1_Recap_Of_Data_Science_Problem)\n",
    "    * [3.2.2 Introduction to Notebook](#3.2.2_Introduction_to_Notebook)\n",
    "  * [3.3 Objectives](#3.3_Objectives)\n",
    "  * [3.4 Imports](#3.4_Imports)\n",
    "  * [3.5 Load, Subsample, and Preprocess Data](#3.5_Load,_Subsample,_and_Preprocess_Data)\n",
    "  * [3.6 Train the Naive Bayes Model](#3.6_Train_the_Naive_Bayes_Model)\n",
    "    * [3.6.1 Set Up the Pipeline and Train](#3.6.1_Set_Up_the_Pipeline_and_Train)\n",
    "      * [3.6.1.1 Make Predictions](#3.6.1.1_Make_Predictions)\n",
    "    * [3.6.2 Optimize Model with GridSearchCV](#3.6.2_Optimize_Model_with_GridSearchCV)\n",
    "      * [3.6.2.1 Make Predictions](#3.6.2.1_Make_Predictions)\n",
    "  * [3.7 Train the Support Vector Machine Model and Predict](#3.7_Train_the_Support_Vector_Machine_Model_and_Predict)"
   ]
  },
  {
   "cell_type": "markdown",
   "id": "60de870a",
   "metadata": {},
   "source": [
    "## 3.2 Introduction<a id='3.2_Introduction'></a>\n",
    "\n",
    "### 3.2.1 Recap of Data Science Problem<a id='3.2.1_Recap_Of_Data_Science_Problem'></a>\n",
    "\n",
    "The mission of GlobalGiving is “to transform aid and philanthropy to accelerate community-led change.” To do this, GlobalGiving provides a web-based fundraising platform that supports nonprofits by connecting them with donors and companies. A nonprofit organization can use this platform to pitch their charitable projects on the GlobalGiving website to potential donors. Donors can browse on the website and select from a variety of projects to contribute to. Since 2002, more than 1.1M donors on GlobalGiving have donated more than $530 million to support more than 28,000 projects in 170 countries. \n",
    "The nonprofit organizations pitch their development projects by describing the mission and long-term impact of the project in the project description. Based on the nature of the project, GlobalGiving organizes the projects by themes such as education, gender equality, child protection, economic growth, among others. Currently, there are 14,720 active projects organized under 28 different themes. It can be tedious, expensive, and time-consuming to manually assign each project to a theme. Therefore, the goal of this capstone project is to use machine learning to assign a project to a theme.\n",
    "\n",
    "### 3.2.2 Introduction to Notebook<a id='3.2.2_Introduction_to_Notebook'></a>\n",
    "\n",
    "In the prior notebook we found that the dataset containing all 38,188 projects with their corresponding texts is too large for my personal computer to handle. Instead of using all 38,188 projects, I decided to subsample 10,000 projects. However, I still had an imbalanced dataset. When fitting the model, the majority of projects were incorrectly classified under \"Education\", reducing the accuracy of the model. Some projects with similar themes were also misclassified. For example, 71% of mental health projects were classified under physical health, and 75% of ecosystem restoration projects were classified under climate action. Therefore, in this notebook I will only use projects under the themes 'Education', 'Economic Growth', 'Physical Health', and 'Gender Equality'. I will subsample 2500 projects from each theme, I will preprocess the texts using the TF-IDF vectorizer, and I will use this data to train a Naive Bayes and a Support Vector Machine (SVM) model.\n",
    "\n",
    "## 3.3 Objectives<a id='3.3_Objectives'></a>\n",
    "\n",
    "1. Subsample 2500 projects from the 'Education', 'Gender Equality', 'Economic Growth', and 'Physical Health' themes\n",
    "2. Preprocess the data using the TF-IDF vectorizer\n",
    "3. Train a Naive Bayes and Support Vector Machine model\n",
    "4. Optimize the models using GridSearchCV"
   ]
  },
  {
   "cell_type": "markdown",
   "id": "c55376b1",
   "metadata": {},
   "source": [
    "## 3.4 Imports<a id='3.4_Imports'></a>"
   ]
  },
  {
   "cell_type": "code",
   "execution_count": 1,
   "id": "f4cdbed7",
   "metadata": {},
   "outputs": [],
   "source": [
    "import pandas as pd\n",
    "import numpy as np\n",
    "import matplotlib.pyplot as plt\n",
    "from sklearn.feature_extraction.text import CountVectorizer\n",
    "from sklearn.feature_extraction.text import TfidfVectorizer\n",
    "from sklearn.feature_extraction.text import TfidfTransformer\n",
    "from sklearn.naive_bayes import GaussianNB\n",
    "from sklearn.svm import SVC\n",
    "from sklearn.metrics import classification_report\n",
    "from sklearn.model_selection import train_test_split, GridSearchCV, cross_validate\n",
    "from sklearn.metrics import classification_report\n",
    "from sklearn.metrics import confusion_matrix\n",
    "from mlxtend.plotting import plot_confusion_matrix\n",
    "from sklearn.pipeline import Pipeline\n",
    "from mlxtend.preprocessing import DenseTransformer\n",
    "import math"
   ]
  },
  {
   "cell_type": "markdown",
   "id": "dce992ed",
   "metadata": {},
   "source": [
    "## 3.5 Load, Subsample, and Preprocess Data<a id='3.5_Load,_Subsample,_and_Preprocess_Data'></a>"
   ]
  },
  {
   "cell_type": "code",
   "execution_count": 2,
   "id": "ff835357",
   "metadata": {},
   "outputs": [],
   "source": [
    "# the supplied CSV data files are in the data/raw directory\n",
    "#load data\n",
    "df = pd.read_csv('../data/raw/data3.csv')\n",
    "\n",
    "# drop unnecessary columns\n",
    "df = df.drop('Unnamed: 0', axis=1)"
   ]
  },
  {
   "cell_type": "code",
   "execution_count": 3,
   "id": "a5391e16",
   "metadata": {},
   "outputs": [
    {
     "data": {
      "text/html": [
       "<div>\n",
       "<style scoped>\n",
       "    .dataframe tbody tr th:only-of-type {\n",
       "        vertical-align: middle;\n",
       "    }\n",
       "\n",
       "    .dataframe tbody tr th {\n",
       "        vertical-align: top;\n",
       "    }\n",
       "\n",
       "    .dataframe thead th {\n",
       "        text-align: right;\n",
       "    }\n",
       "</style>\n",
       "<table border=\"1\" class=\"dataframe\">\n",
       "  <thead>\n",
       "    <tr style=\"text-align: right;\">\n",
       "      <th></th>\n",
       "      <th>project_id</th>\n",
       "      <th>active</th>\n",
       "      <th>language</th>\n",
       "      <th>text</th>\n",
       "      <th>theme</th>\n",
       "    </tr>\n",
       "  </thead>\n",
       "  <tbody>\n",
       "    <tr>\n",
       "      <th>0</th>\n",
       "      <td>22244</td>\n",
       "      <td>False</td>\n",
       "      <td>en</td>\n",
       "      <td>save life street dog afghanistan street dog th...</td>\n",
       "      <td>Animal Welfare</td>\n",
       "    </tr>\n",
       "    <tr>\n",
       "      <th>1</th>\n",
       "      <td>30154</td>\n",
       "      <td>False</td>\n",
       "      <td>en</td>\n",
       "      <td>save street dog death afghanistan dog thousand...</td>\n",
       "      <td>Animal Welfare</td>\n",
       "    </tr>\n",
       "    <tr>\n",
       "      <th>2</th>\n",
       "      <td>33084</td>\n",
       "      <td>False</td>\n",
       "      <td>en</td>\n",
       "      <td>save canine human live afghanistan rabies dead...</td>\n",
       "      <td>Animal Welfare</td>\n",
       "    </tr>\n",
       "    <tr>\n",
       "      <th>3</th>\n",
       "      <td>35906</td>\n",
       "      <td>False</td>\n",
       "      <td>en</td>\n",
       "      <td>green tanzania green tanzania project design h...</td>\n",
       "      <td>Animal Welfare</td>\n",
       "    </tr>\n",
       "    <tr>\n",
       "      <th>4</th>\n",
       "      <td>41112</td>\n",
       "      <td>False</td>\n",
       "      <td>en</td>\n",
       "      <td>help nowzad reduce rabies afghanistan rabies p...</td>\n",
       "      <td>Animal Welfare</td>\n",
       "    </tr>\n",
       "  </tbody>\n",
       "</table>\n",
       "</div>"
      ],
      "text/plain": [
       "   project_id  active language  \\\n",
       "0       22244   False       en   \n",
       "1       30154   False       en   \n",
       "2       33084   False       en   \n",
       "3       35906   False       en   \n",
       "4       41112   False       en   \n",
       "\n",
       "                                                text           theme  \n",
       "0  save life street dog afghanistan street dog th...  Animal Welfare  \n",
       "1  save street dog death afghanistan dog thousand...  Animal Welfare  \n",
       "2  save canine human live afghanistan rabies dead...  Animal Welfare  \n",
       "3  green tanzania green tanzania project design h...  Animal Welfare  \n",
       "4  help nowzad reduce rabies afghanistan rabies p...  Animal Welfare  "
      ]
     },
     "execution_count": 3,
     "metadata": {},
     "output_type": "execute_result"
    }
   ],
   "source": [
    "df.head()"
   ]
  },
  {
   "cell_type": "code",
   "execution_count": 4,
   "id": "fbd4e6c9",
   "metadata": {},
   "outputs": [
    {
     "name": "stdout",
     "output_type": "stream",
     "text": [
      "<class 'pandas.core.frame.DataFrame'>\n",
      "RangeIndex: 38188 entries, 0 to 38187\n",
      "Data columns (total 5 columns):\n",
      " #   Column      Non-Null Count  Dtype \n",
      "---  ------      --------------  ----- \n",
      " 0   project_id  38188 non-null  int64 \n",
      " 1   active      38188 non-null  bool  \n",
      " 2   language    38188 non-null  object\n",
      " 3   text        38188 non-null  object\n",
      " 4   theme       38188 non-null  object\n",
      "dtypes: bool(1), int64(1), object(3)\n",
      "memory usage: 1.2+ MB\n"
     ]
    }
   ],
   "source": [
    "df.info()"
   ]
  },
  {
   "cell_type": "markdown",
   "id": "c7c0fffe",
   "metadata": {},
   "source": [
    "**<font color='teal'>From the dataset, select those frmo the 'Education', 'Physical Health', 'Gender Equality', and 'Economic Growth' themes.</font>**"
   ]
  },
  {
   "cell_type": "code",
   "execution_count": 5,
   "id": "53600f01",
   "metadata": {},
   "outputs": [],
   "source": [
    "df = df.loc[df['theme'].isin(['Education', 'Physical Health', 'Gender Equality', 'Economic Growth'])]"
   ]
  },
  {
   "cell_type": "markdown",
   "id": "4ff077b7",
   "metadata": {},
   "source": [
    "**<font color='teal'>Select 2500 projects from each theme. This subsample will be used for training and testing.</font>**"
   ]
  },
  {
   "cell_type": "code",
   "execution_count": 6,
   "id": "59b1badd",
   "metadata": {},
   "outputs": [],
   "source": [
    "select_themes = list(df.theme.unique())\n",
    "list_of_rows = []\n",
    "\n",
    "for theme in select_themes:\n",
    "    np.random.seed(1)\n",
    "    rows = list(np.random.choice(df[df['theme'] == theme].index.values, 2500))\n",
    "    list_of_rows = list_of_rows + rows\n",
    "\n",
    "array_of_rows = np.array(list_of_rows)\n",
    "df = df.loc[array_of_rows]"
   ]
  },
  {
   "cell_type": "code",
   "execution_count": 7,
   "id": "9ae0ebe6",
   "metadata": {},
   "outputs": [
    {
     "data": {
      "text/html": [
       "<div>\n",
       "<style scoped>\n",
       "    .dataframe tbody tr th:only-of-type {\n",
       "        vertical-align: middle;\n",
       "    }\n",
       "\n",
       "    .dataframe tbody tr th {\n",
       "        vertical-align: top;\n",
       "    }\n",
       "\n",
       "    .dataframe thead th {\n",
       "        text-align: right;\n",
       "    }\n",
       "</style>\n",
       "<table border=\"1\" class=\"dataframe\">\n",
       "  <thead>\n",
       "    <tr style=\"text-align: right;\">\n",
       "      <th></th>\n",
       "      <th>project_id</th>\n",
       "      <th>active</th>\n",
       "      <th>language</th>\n",
       "      <th>text</th>\n",
       "      <th>theme</th>\n",
       "    </tr>\n",
       "  </thead>\n",
       "  <tbody>\n",
       "    <tr>\n",
       "      <th>8368</th>\n",
       "      <td>1501</td>\n",
       "      <td>False</td>\n",
       "      <td>en</td>\n",
       "      <td>lifeskills beekeeping train girl kenya help gi...</td>\n",
       "      <td>Economic Growth</td>\n",
       "    </tr>\n",
       "    <tr>\n",
       "      <th>7542</th>\n",
       "      <td>16217</td>\n",
       "      <td>False</td>\n",
       "      <td>en</td>\n",
       "      <td>hope soil project aim use agriculture mean fig...</td>\n",
       "      <td>Economic Growth</td>\n",
       "    </tr>\n",
       "    <tr>\n",
       "      <th>8403</th>\n",
       "      <td>50346</td>\n",
       "      <td>False</td>\n",
       "      <td>en</td>\n",
       "      <td>support kenyan youth sustainable livelihood pr...</td>\n",
       "      <td>Economic Growth</td>\n",
       "    </tr>\n",
       "    <tr>\n",
       "      <th>8212</th>\n",
       "      <td>24438</td>\n",
       "      <td>False</td>\n",
       "      <td>en</td>\n",
       "      <td>provide bag make skill marginalize girl twenty...</td>\n",
       "      <td>Economic Growth</td>\n",
       "    </tr>\n",
       "    <tr>\n",
       "      <th>10070</th>\n",
       "      <td>31077</td>\n",
       "      <td>False</td>\n",
       "      <td>en</td>\n",
       "      <td>care leaver christmas please close gap congrat...</td>\n",
       "      <td>Economic Growth</td>\n",
       "    </tr>\n",
       "    <tr>\n",
       "      <th>...</th>\n",
       "      <td>...</td>\n",
       "      <td>...</td>\n",
       "      <td>...</td>\n",
       "      <td>...</td>\n",
       "      <td>...</td>\n",
       "    </tr>\n",
       "    <tr>\n",
       "      <th>31070</th>\n",
       "      <td>47911</td>\n",
       "      <td>False</td>\n",
       "      <td>en</td>\n",
       "      <td>help u save dad nearly men die prostate cancer...</td>\n",
       "      <td>Physical Health</td>\n",
       "    </tr>\n",
       "    <tr>\n",
       "      <th>28326</th>\n",
       "      <td>48395</td>\n",
       "      <td>False</td>\n",
       "      <td>en</td>\n",
       "      <td>improve nursing midwifery care liberia urgent ...</td>\n",
       "      <td>Physical Health</td>\n",
       "    </tr>\n",
       "    <tr>\n",
       "      <th>26652</th>\n",
       "      <td>3926</td>\n",
       "      <td>False</td>\n",
       "      <td>en</td>\n",
       "      <td>equip midwife remote congolese village woman k...</td>\n",
       "      <td>Physical Health</td>\n",
       "    </tr>\n",
       "    <tr>\n",
       "      <th>28744</th>\n",
       "      <td>14408</td>\n",
       "      <td>False</td>\n",
       "      <td>en</td>\n",
       "      <td>keep infant warm heart surgery surgeon hope fo...</td>\n",
       "      <td>Physical Health</td>\n",
       "    </tr>\n",
       "    <tr>\n",
       "      <th>27605</th>\n",
       "      <td>26659</td>\n",
       "      <td>False</td>\n",
       "      <td>en</td>\n",
       "      <td>restore health malnourish tribal child project...</td>\n",
       "      <td>Physical Health</td>\n",
       "    </tr>\n",
       "  </tbody>\n",
       "</table>\n",
       "<p>10000 rows × 5 columns</p>\n",
       "</div>"
      ],
      "text/plain": [
       "       project_id  active language  \\\n",
       "8368         1501   False       en   \n",
       "7542        16217   False       en   \n",
       "8403        50346   False       en   \n",
       "8212        24438   False       en   \n",
       "10070       31077   False       en   \n",
       "...           ...     ...      ...   \n",
       "31070       47911   False       en   \n",
       "28326       48395   False       en   \n",
       "26652        3926   False       en   \n",
       "28744       14408   False       en   \n",
       "27605       26659   False       en   \n",
       "\n",
       "                                                    text            theme  \n",
       "8368   lifeskills beekeeping train girl kenya help gi...  Economic Growth  \n",
       "7542   hope soil project aim use agriculture mean fig...  Economic Growth  \n",
       "8403   support kenyan youth sustainable livelihood pr...  Economic Growth  \n",
       "8212   provide bag make skill marginalize girl twenty...  Economic Growth  \n",
       "10070  care leaver christmas please close gap congrat...  Economic Growth  \n",
       "...                                                  ...              ...  \n",
       "31070  help u save dad nearly men die prostate cancer...  Physical Health  \n",
       "28326  improve nursing midwifery care liberia urgent ...  Physical Health  \n",
       "26652  equip midwife remote congolese village woman k...  Physical Health  \n",
       "28744  keep infant warm heart surgery surgeon hope fo...  Physical Health  \n",
       "27605  restore health malnourish tribal child project...  Physical Health  \n",
       "\n",
       "[10000 rows x 5 columns]"
      ]
     },
     "execution_count": 7,
     "metadata": {},
     "output_type": "execute_result"
    }
   ],
   "source": [
    "df"
   ]
  },
  {
   "cell_type": "code",
   "execution_count": 8,
   "id": "0f6b5174",
   "metadata": {},
   "outputs": [
    {
     "data": {
      "text/plain": [
       "Economic Growth    2500\n",
       "Education          2500\n",
       "Gender Equality    2500\n",
       "Physical Health    2500\n",
       "Name: theme, dtype: int64"
      ]
     },
     "execution_count": 8,
     "metadata": {},
     "output_type": "execute_result"
    }
   ],
   "source": [
    "df['theme'].value_counts()"
   ]
  },
  {
   "cell_type": "markdown",
   "id": "19967047",
   "metadata": {},
   "source": [
    "**<font color='teal'>First, I will do a demonstration of splitting the data into training and testing sets. Then I will use the TF-IDF and 'bag-of-words' vectorizers to transform the text into vectors.</font>**"
   ]
  },
  {
   "cell_type": "code",
   "execution_count": 9,
   "id": "37350115",
   "metadata": {},
   "outputs": [],
   "source": [
    "X = df['text']\n",
    "y = df['theme']"
   ]
  },
  {
   "cell_type": "code",
   "execution_count": 10,
   "id": "453e8bd0",
   "metadata": {},
   "outputs": [],
   "source": [
    "X_train, X_test, y_train, y_test = train_test_split(X, y, train_size=0.7, random_state=47)"
   ]
  },
  {
   "cell_type": "code",
   "execution_count": 11,
   "id": "71e2ab67",
   "metadata": {},
   "outputs": [
    {
     "data": {
      "text/plain": [
       "23826    help u raise aid tarahumara year combination d...\n",
       "25848    prevent cancer woman quang ninh vietnam woman ...\n",
       "25366    digital literacy girl kampala slum girl live s...\n",
       "27960    help mend broken heart kenya project provide d...\n",
       "22859    empower woman girl auroville bioregion alfred ...\n",
       "                               ...                        \n",
       "20105    one day afterschool tutor kid marcus team begi...\n",
       "27463    fund health technology develop country global ...\n",
       "22944    fish net give self employment fish fish produc...\n",
       "9578     rokupa wharf clean sierra leone west africa ro...\n",
       "21879    support hop mother club bangladesh mother cruc...\n",
       "Name: text, Length: 7000, dtype: object"
      ]
     },
     "execution_count": 11,
     "metadata": {},
     "output_type": "execute_result"
    }
   ],
   "source": [
    "X_train"
   ]
  },
  {
   "cell_type": "markdown",
   "id": "13fadc8a",
   "metadata": {},
   "source": [
    "**<font color='teal'>Here I will use the 'Bag-of-Words' model, which counts the number of times a word appear in the text.</font>**"
   ]
  },
  {
   "cell_type": "code",
   "execution_count": 12,
   "id": "84f3168f",
   "metadata": {},
   "outputs": [
    {
     "name": "stderr",
     "output_type": "stream",
     "text": [
      "C:\\Users\\melis\\Envs\\topic_classification\\lib\\site-packages\\sklearn\\utils\\deprecation.py:87: FutureWarning: Function get_feature_names is deprecated; get_feature_names is deprecated in 1.0 and will be removed in 1.2. Please use get_feature_names_out instead.\n",
      "  warnings.warn(msg, category=FutureWarning)\n"
     ]
    }
   ],
   "source": [
    "count_vect = CountVectorizer()\n",
    "counts = count_vect.fit_transform(X_train)\n",
    "bw = pd.DataFrame(counts.toarray(),columns=count_vect.get_feature_names())"
   ]
  },
  {
   "cell_type": "code",
   "execution_count": 13,
   "id": "58db8bce",
   "metadata": {},
   "outputs": [
    {
     "data": {
      "text/html": [
       "<div>\n",
       "<style scoped>\n",
       "    .dataframe tbody tr th:only-of-type {\n",
       "        vertical-align: middle;\n",
       "    }\n",
       "\n",
       "    .dataframe tbody tr th {\n",
       "        vertical-align: top;\n",
       "    }\n",
       "\n",
       "    .dataframe thead th {\n",
       "        text-align: right;\n",
       "    }\n",
       "</style>\n",
       "<table border=\"1\" class=\"dataframe\">\n",
       "  <thead>\n",
       "    <tr style=\"text-align: right;\">\n",
       "      <th></th>\n",
       "      <th>aa</th>\n",
       "      <th>aac</th>\n",
       "      <th>aadhya</th>\n",
       "      <th>aae</th>\n",
       "      <th>aaes</th>\n",
       "      <th>aai</th>\n",
       "      <th>aais</th>\n",
       "      <th>aalg</th>\n",
       "      <th>aarabat</th>\n",
       "      <th>aaranyak</th>\n",
       "      <th>...</th>\n",
       "      <th>zuckerberg</th>\n",
       "      <th>zulogu</th>\n",
       "      <th>zulu</th>\n",
       "      <th>zuma</th>\n",
       "      <th>zumat</th>\n",
       "      <th>zwelenthemba</th>\n",
       "      <th>zwelethemba</th>\n",
       "      <th>zyi</th>\n",
       "      <th>zymec</th>\n",
       "      <th>zyuzinsky</th>\n",
       "    </tr>\n",
       "  </thead>\n",
       "  <tbody>\n",
       "    <tr>\n",
       "      <th>0</th>\n",
       "      <td>0</td>\n",
       "      <td>0</td>\n",
       "      <td>0</td>\n",
       "      <td>0</td>\n",
       "      <td>0</td>\n",
       "      <td>0</td>\n",
       "      <td>0</td>\n",
       "      <td>0</td>\n",
       "      <td>0</td>\n",
       "      <td>0</td>\n",
       "      <td>...</td>\n",
       "      <td>0</td>\n",
       "      <td>0</td>\n",
       "      <td>0</td>\n",
       "      <td>0</td>\n",
       "      <td>0</td>\n",
       "      <td>0</td>\n",
       "      <td>0</td>\n",
       "      <td>0</td>\n",
       "      <td>0</td>\n",
       "      <td>0</td>\n",
       "    </tr>\n",
       "    <tr>\n",
       "      <th>1</th>\n",
       "      <td>0</td>\n",
       "      <td>0</td>\n",
       "      <td>0</td>\n",
       "      <td>0</td>\n",
       "      <td>0</td>\n",
       "      <td>0</td>\n",
       "      <td>0</td>\n",
       "      <td>0</td>\n",
       "      <td>0</td>\n",
       "      <td>0</td>\n",
       "      <td>...</td>\n",
       "      <td>0</td>\n",
       "      <td>0</td>\n",
       "      <td>0</td>\n",
       "      <td>0</td>\n",
       "      <td>0</td>\n",
       "      <td>0</td>\n",
       "      <td>0</td>\n",
       "      <td>0</td>\n",
       "      <td>0</td>\n",
       "      <td>0</td>\n",
       "    </tr>\n",
       "    <tr>\n",
       "      <th>2</th>\n",
       "      <td>0</td>\n",
       "      <td>0</td>\n",
       "      <td>0</td>\n",
       "      <td>0</td>\n",
       "      <td>0</td>\n",
       "      <td>0</td>\n",
       "      <td>0</td>\n",
       "      <td>0</td>\n",
       "      <td>0</td>\n",
       "      <td>0</td>\n",
       "      <td>...</td>\n",
       "      <td>0</td>\n",
       "      <td>0</td>\n",
       "      <td>0</td>\n",
       "      <td>0</td>\n",
       "      <td>0</td>\n",
       "      <td>0</td>\n",
       "      <td>0</td>\n",
       "      <td>0</td>\n",
       "      <td>0</td>\n",
       "      <td>0</td>\n",
       "    </tr>\n",
       "    <tr>\n",
       "      <th>3</th>\n",
       "      <td>0</td>\n",
       "      <td>0</td>\n",
       "      <td>0</td>\n",
       "      <td>0</td>\n",
       "      <td>0</td>\n",
       "      <td>0</td>\n",
       "      <td>0</td>\n",
       "      <td>0</td>\n",
       "      <td>0</td>\n",
       "      <td>0</td>\n",
       "      <td>...</td>\n",
       "      <td>0</td>\n",
       "      <td>0</td>\n",
       "      <td>0</td>\n",
       "      <td>0</td>\n",
       "      <td>0</td>\n",
       "      <td>0</td>\n",
       "      <td>0</td>\n",
       "      <td>0</td>\n",
       "      <td>0</td>\n",
       "      <td>0</td>\n",
       "    </tr>\n",
       "    <tr>\n",
       "      <th>4</th>\n",
       "      <td>0</td>\n",
       "      <td>0</td>\n",
       "      <td>0</td>\n",
       "      <td>0</td>\n",
       "      <td>0</td>\n",
       "      <td>0</td>\n",
       "      <td>0</td>\n",
       "      <td>0</td>\n",
       "      <td>0</td>\n",
       "      <td>0</td>\n",
       "      <td>...</td>\n",
       "      <td>0</td>\n",
       "      <td>0</td>\n",
       "      <td>0</td>\n",
       "      <td>0</td>\n",
       "      <td>0</td>\n",
       "      <td>0</td>\n",
       "      <td>0</td>\n",
       "      <td>0</td>\n",
       "      <td>0</td>\n",
       "      <td>0</td>\n",
       "    </tr>\n",
       "    <tr>\n",
       "      <th>...</th>\n",
       "      <td>...</td>\n",
       "      <td>...</td>\n",
       "      <td>...</td>\n",
       "      <td>...</td>\n",
       "      <td>...</td>\n",
       "      <td>...</td>\n",
       "      <td>...</td>\n",
       "      <td>...</td>\n",
       "      <td>...</td>\n",
       "      <td>...</td>\n",
       "      <td>...</td>\n",
       "      <td>...</td>\n",
       "      <td>...</td>\n",
       "      <td>...</td>\n",
       "      <td>...</td>\n",
       "      <td>...</td>\n",
       "      <td>...</td>\n",
       "      <td>...</td>\n",
       "      <td>...</td>\n",
       "      <td>...</td>\n",
       "      <td>...</td>\n",
       "    </tr>\n",
       "    <tr>\n",
       "      <th>6995</th>\n",
       "      <td>0</td>\n",
       "      <td>0</td>\n",
       "      <td>0</td>\n",
       "      <td>0</td>\n",
       "      <td>0</td>\n",
       "      <td>0</td>\n",
       "      <td>0</td>\n",
       "      <td>0</td>\n",
       "      <td>0</td>\n",
       "      <td>0</td>\n",
       "      <td>...</td>\n",
       "      <td>0</td>\n",
       "      <td>0</td>\n",
       "      <td>0</td>\n",
       "      <td>0</td>\n",
       "      <td>0</td>\n",
       "      <td>0</td>\n",
       "      <td>0</td>\n",
       "      <td>0</td>\n",
       "      <td>0</td>\n",
       "      <td>0</td>\n",
       "    </tr>\n",
       "    <tr>\n",
       "      <th>6996</th>\n",
       "      <td>0</td>\n",
       "      <td>0</td>\n",
       "      <td>0</td>\n",
       "      <td>0</td>\n",
       "      <td>0</td>\n",
       "      <td>0</td>\n",
       "      <td>0</td>\n",
       "      <td>0</td>\n",
       "      <td>0</td>\n",
       "      <td>0</td>\n",
       "      <td>...</td>\n",
       "      <td>0</td>\n",
       "      <td>0</td>\n",
       "      <td>0</td>\n",
       "      <td>0</td>\n",
       "      <td>0</td>\n",
       "      <td>0</td>\n",
       "      <td>0</td>\n",
       "      <td>0</td>\n",
       "      <td>0</td>\n",
       "      <td>0</td>\n",
       "    </tr>\n",
       "    <tr>\n",
       "      <th>6997</th>\n",
       "      <td>0</td>\n",
       "      <td>0</td>\n",
       "      <td>0</td>\n",
       "      <td>0</td>\n",
       "      <td>0</td>\n",
       "      <td>0</td>\n",
       "      <td>0</td>\n",
       "      <td>0</td>\n",
       "      <td>0</td>\n",
       "      <td>0</td>\n",
       "      <td>...</td>\n",
       "      <td>0</td>\n",
       "      <td>0</td>\n",
       "      <td>0</td>\n",
       "      <td>0</td>\n",
       "      <td>0</td>\n",
       "      <td>0</td>\n",
       "      <td>0</td>\n",
       "      <td>0</td>\n",
       "      <td>0</td>\n",
       "      <td>0</td>\n",
       "    </tr>\n",
       "    <tr>\n",
       "      <th>6998</th>\n",
       "      <td>0</td>\n",
       "      <td>0</td>\n",
       "      <td>0</td>\n",
       "      <td>0</td>\n",
       "      <td>0</td>\n",
       "      <td>0</td>\n",
       "      <td>0</td>\n",
       "      <td>0</td>\n",
       "      <td>0</td>\n",
       "      <td>0</td>\n",
       "      <td>...</td>\n",
       "      <td>0</td>\n",
       "      <td>0</td>\n",
       "      <td>0</td>\n",
       "      <td>0</td>\n",
       "      <td>0</td>\n",
       "      <td>0</td>\n",
       "      <td>0</td>\n",
       "      <td>0</td>\n",
       "      <td>0</td>\n",
       "      <td>0</td>\n",
       "    </tr>\n",
       "    <tr>\n",
       "      <th>6999</th>\n",
       "      <td>0</td>\n",
       "      <td>0</td>\n",
       "      <td>0</td>\n",
       "      <td>0</td>\n",
       "      <td>0</td>\n",
       "      <td>0</td>\n",
       "      <td>0</td>\n",
       "      <td>0</td>\n",
       "      <td>0</td>\n",
       "      <td>0</td>\n",
       "      <td>...</td>\n",
       "      <td>0</td>\n",
       "      <td>0</td>\n",
       "      <td>0</td>\n",
       "      <td>0</td>\n",
       "      <td>0</td>\n",
       "      <td>0</td>\n",
       "      <td>0</td>\n",
       "      <td>0</td>\n",
       "      <td>0</td>\n",
       "      <td>0</td>\n",
       "    </tr>\n",
       "  </tbody>\n",
       "</table>\n",
       "<p>7000 rows × 26891 columns</p>\n",
       "</div>"
      ],
      "text/plain": [
       "      aa  aac  aadhya  aae  aaes  aai  aais  aalg  aarabat  aaranyak  ...  \\\n",
       "0      0    0       0    0     0    0     0     0        0         0  ...   \n",
       "1      0    0       0    0     0    0     0     0        0         0  ...   \n",
       "2      0    0       0    0     0    0     0     0        0         0  ...   \n",
       "3      0    0       0    0     0    0     0     0        0         0  ...   \n",
       "4      0    0       0    0     0    0     0     0        0         0  ...   \n",
       "...   ..  ...     ...  ...   ...  ...   ...   ...      ...       ...  ...   \n",
       "6995   0    0       0    0     0    0     0     0        0         0  ...   \n",
       "6996   0    0       0    0     0    0     0     0        0         0  ...   \n",
       "6997   0    0       0    0     0    0     0     0        0         0  ...   \n",
       "6998   0    0       0    0     0    0     0     0        0         0  ...   \n",
       "6999   0    0       0    0     0    0     0     0        0         0  ...   \n",
       "\n",
       "      zuckerberg  zulogu  zulu  zuma  zumat  zwelenthemba  zwelethemba  zyi  \\\n",
       "0              0       0     0     0      0             0            0    0   \n",
       "1              0       0     0     0      0             0            0    0   \n",
       "2              0       0     0     0      0             0            0    0   \n",
       "3              0       0     0     0      0             0            0    0   \n",
       "4              0       0     0     0      0             0            0    0   \n",
       "...          ...     ...   ...   ...    ...           ...          ...  ...   \n",
       "6995           0       0     0     0      0             0            0    0   \n",
       "6996           0       0     0     0      0             0            0    0   \n",
       "6997           0       0     0     0      0             0            0    0   \n",
       "6998           0       0     0     0      0             0            0    0   \n",
       "6999           0       0     0     0      0             0            0    0   \n",
       "\n",
       "      zymec  zyuzinsky  \n",
       "0         0          0  \n",
       "1         0          0  \n",
       "2         0          0  \n",
       "3         0          0  \n",
       "4         0          0  \n",
       "...     ...        ...  \n",
       "6995      0          0  \n",
       "6996      0          0  \n",
       "6997      0          0  \n",
       "6998      0          0  \n",
       "6999      0          0  \n",
       "\n",
       "[7000 rows x 26891 columns]"
      ]
     },
     "execution_count": 13,
     "metadata": {},
     "output_type": "execute_result"
    }
   ],
   "source": [
    "bw"
   ]
  },
  {
   "cell_type": "markdown",
   "id": "2d53216c",
   "metadata": {},
   "source": [
    "**<font color='teal'>Next, I will take a look at the most common words in all projects categorized under a certain theme.</font>**"
   ]
  },
  {
   "cell_type": "code",
   "execution_count": 14,
   "id": "2b3b0423",
   "metadata": {},
   "outputs": [
    {
     "data": {
      "image/png": "[encoded data removed]",
      "text/plain": [
       "<Figure size 432x288 with 1 Axes>"
      ]
     },
     "metadata": {
      "needs_background": "light"
     },
     "output_type": "display_data"
    },
    {
     "data": {
      "image/png": "[encoded data removed]",
      "text/plain": [
       "<Figure size 432x288 with 1 Axes>"
      ]
     },
     "metadata": {
      "needs_background": "light"
     },
     "output_type": "display_data"
    },
    {
     "data": {
      "image/png": "[encoded data removed]",
      "text/plain": [
       "<Figure size 432x288 with 1 Axes>"
      ]
     },
     "metadata": {
      "needs_background": "light"
     },
     "output_type": "display_data"
    },
    {
     "data": {
      "image/png": "[encoded data removed]",
      "text/plain": [
       "<Figure size 432x288 with 1 Axes>"
      ]
     },
     "metadata": {
      "needs_background": "light"
     },
     "output_type": "display_data"
    }
   ],
   "source": [
    "bw['theme'] = list(y_train)\n",
    "grouped_bw = bw.groupby('theme').sum()\n",
    "themes = list(y_train.unique())\n",
    "for theme in themes:\n",
    "    theme_df = grouped_bw.loc[theme].sort_values(ascending = False)\n",
    "    most_common_words = grouped_bw.loc[theme].sort_values(ascending = False).index[:15]\n",
    "    fig, ax = plt.subplots()\n",
    "    theme_df[most_common_words].plot.barh()\n",
    "    ax.set_title(theme)\n",
    "    plt.show()"
   ]
  },
  {
   "cell_type": "markdown",
   "id": "996c271d",
   "metadata": {},
   "source": [
    "The four categories have several words in common, such as ‘project’, ‘provide’, ‘help’, ‘child’, ‘community’, and ‘family’.  ‘School’, ‘education’, ‘woman’, and ‘girl’ appear often in ‘Gender Equality’ and ‘Education’ texts which can lead to some texts being misclassified under these themes. ‘Water’ and ‘health’ are most frequent in ‘Physical Health’ and ‘development’ and ‘income’ are most frequent in ‘Economic Growth’ texts.\n",
    "\n",
    "While the bag-of-words method counts the number of times a word appears in the text, The TF-IDF method takes into account the importance of the word in the document. A word will be less important if it is common and appears in all texts. Therefore, words such as ‘project’, ‘provide’, and help’, which are the most frequent words in all categories, will be assigned a lower importance and a lower TF-IDF value. In this manner, the TF-IDF method helps identify the words that are most important for text classification. For these reasons, I used the TF-IDF method first to convert the text for each project into feature vectors prior to training the Naïve Bayes and SVM models. This resulted in a sparse matrix of 10,000 by 26,677 in size. "
   ]
  },
  {
   "cell_type": "markdown",
   "id": "912b480d",
   "metadata": {},
   "source": [
    "**<font color='teal'>Here I will use the TF-IDF model, which measures the importance of a word in a text by taking the product of the frequency of a term in a single text (term frequency) over its relative rarity in the collection of documents (inverse document frequency).</font>**"
   ]
  },
  {
   "cell_type": "code",
   "execution_count": 15,
   "id": "830c4af1",
   "metadata": {},
   "outputs": [
    {
     "name": "stderr",
     "output_type": "stream",
     "text": [
      "C:\\Users\\melis\\Envs\\topic_classification\\lib\\site-packages\\sklearn\\utils\\deprecation.py:87: FutureWarning: Function get_feature_names is deprecated; get_feature_names is deprecated in 1.0 and will be removed in 1.2. Please use get_feature_names_out instead.\n",
      "  warnings.warn(msg, category=FutureWarning)\n"
     ]
    },
    {
     "data": {
      "text/html": [
       "<div>\n",
       "<style scoped>\n",
       "    .dataframe tbody tr th:only-of-type {\n",
       "        vertical-align: middle;\n",
       "    }\n",
       "\n",
       "    .dataframe tbody tr th {\n",
       "        vertical-align: top;\n",
       "    }\n",
       "\n",
       "    .dataframe thead th {\n",
       "        text-align: right;\n",
       "    }\n",
       "</style>\n",
       "<table border=\"1\" class=\"dataframe\">\n",
       "  <thead>\n",
       "    <tr style=\"text-align: right;\">\n",
       "      <th></th>\n",
       "      <th>aa</th>\n",
       "      <th>aaa</th>\n",
       "      <th>aac</th>\n",
       "      <th>aadhya</th>\n",
       "      <th>aae</th>\n",
       "      <th>aaes</th>\n",
       "      <th>aai</th>\n",
       "      <th>aais</th>\n",
       "      <th>aalg</th>\n",
       "      <th>aarabat</th>\n",
       "      <th>...</th>\n",
       "      <th>zuckerberg</th>\n",
       "      <th>zulogu</th>\n",
       "      <th>zulu</th>\n",
       "      <th>zuma</th>\n",
       "      <th>zumat</th>\n",
       "      <th>zwelenthemba</th>\n",
       "      <th>zwelethemba</th>\n",
       "      <th>zyi</th>\n",
       "      <th>zymec</th>\n",
       "      <th>zyuzinsky</th>\n",
       "    </tr>\n",
       "  </thead>\n",
       "  <tbody>\n",
       "    <tr>\n",
       "      <th>0</th>\n",
       "      <td>0.0</td>\n",
       "      <td>0.0</td>\n",
       "      <td>0.0</td>\n",
       "      <td>0.0</td>\n",
       "      <td>0.0</td>\n",
       "      <td>0.0</td>\n",
       "      <td>0.0</td>\n",
       "      <td>0.0</td>\n",
       "      <td>0.0</td>\n",
       "      <td>0.0</td>\n",
       "      <td>...</td>\n",
       "      <td>0.0</td>\n",
       "      <td>0.0</td>\n",
       "      <td>0.0</td>\n",
       "      <td>0.0</td>\n",
       "      <td>0.0</td>\n",
       "      <td>0.0</td>\n",
       "      <td>0.0</td>\n",
       "      <td>0.0</td>\n",
       "      <td>0.0</td>\n",
       "      <td>0.0</td>\n",
       "    </tr>\n",
       "    <tr>\n",
       "      <th>1</th>\n",
       "      <td>0.0</td>\n",
       "      <td>0.0</td>\n",
       "      <td>0.0</td>\n",
       "      <td>0.0</td>\n",
       "      <td>0.0</td>\n",
       "      <td>0.0</td>\n",
       "      <td>0.0</td>\n",
       "      <td>0.0</td>\n",
       "      <td>0.0</td>\n",
       "      <td>0.0</td>\n",
       "      <td>...</td>\n",
       "      <td>0.0</td>\n",
       "      <td>0.0</td>\n",
       "      <td>0.0</td>\n",
       "      <td>0.0</td>\n",
       "      <td>0.0</td>\n",
       "      <td>0.0</td>\n",
       "      <td>0.0</td>\n",
       "      <td>0.0</td>\n",
       "      <td>0.0</td>\n",
       "      <td>0.0</td>\n",
       "    </tr>\n",
       "    <tr>\n",
       "      <th>2</th>\n",
       "      <td>0.0</td>\n",
       "      <td>0.0</td>\n",
       "      <td>0.0</td>\n",
       "      <td>0.0</td>\n",
       "      <td>0.0</td>\n",
       "      <td>0.0</td>\n",
       "      <td>0.0</td>\n",
       "      <td>0.0</td>\n",
       "      <td>0.0</td>\n",
       "      <td>0.0</td>\n",
       "      <td>...</td>\n",
       "      <td>0.0</td>\n",
       "      <td>0.0</td>\n",
       "      <td>0.0</td>\n",
       "      <td>0.0</td>\n",
       "      <td>0.0</td>\n",
       "      <td>0.0</td>\n",
       "      <td>0.0</td>\n",
       "      <td>0.0</td>\n",
       "      <td>0.0</td>\n",
       "      <td>0.0</td>\n",
       "    </tr>\n",
       "    <tr>\n",
       "      <th>3</th>\n",
       "      <td>0.0</td>\n",
       "      <td>0.0</td>\n",
       "      <td>0.0</td>\n",
       "      <td>0.0</td>\n",
       "      <td>0.0</td>\n",
       "      <td>0.0</td>\n",
       "      <td>0.0</td>\n",
       "      <td>0.0</td>\n",
       "      <td>0.0</td>\n",
       "      <td>0.0</td>\n",
       "      <td>...</td>\n",
       "      <td>0.0</td>\n",
       "      <td>0.0</td>\n",
       "      <td>0.0</td>\n",
       "      <td>0.0</td>\n",
       "      <td>0.0</td>\n",
       "      <td>0.0</td>\n",
       "      <td>0.0</td>\n",
       "      <td>0.0</td>\n",
       "      <td>0.0</td>\n",
       "      <td>0.0</td>\n",
       "    </tr>\n",
       "    <tr>\n",
       "      <th>4</th>\n",
       "      <td>0.0</td>\n",
       "      <td>0.0</td>\n",
       "      <td>0.0</td>\n",
       "      <td>0.0</td>\n",
       "      <td>0.0</td>\n",
       "      <td>0.0</td>\n",
       "      <td>0.0</td>\n",
       "      <td>0.0</td>\n",
       "      <td>0.0</td>\n",
       "      <td>0.0</td>\n",
       "      <td>...</td>\n",
       "      <td>0.0</td>\n",
       "      <td>0.0</td>\n",
       "      <td>0.0</td>\n",
       "      <td>0.0</td>\n",
       "      <td>0.0</td>\n",
       "      <td>0.0</td>\n",
       "      <td>0.0</td>\n",
       "      <td>0.0</td>\n",
       "      <td>0.0</td>\n",
       "      <td>0.0</td>\n",
       "    </tr>\n",
       "    <tr>\n",
       "      <th>...</th>\n",
       "      <td>...</td>\n",
       "      <td>...</td>\n",
       "      <td>...</td>\n",
       "      <td>...</td>\n",
       "      <td>...</td>\n",
       "      <td>...</td>\n",
       "      <td>...</td>\n",
       "      <td>...</td>\n",
       "      <td>...</td>\n",
       "      <td>...</td>\n",
       "      <td>...</td>\n",
       "      <td>...</td>\n",
       "      <td>...</td>\n",
       "      <td>...</td>\n",
       "      <td>...</td>\n",
       "      <td>...</td>\n",
       "      <td>...</td>\n",
       "      <td>...</td>\n",
       "      <td>...</td>\n",
       "      <td>...</td>\n",
       "      <td>...</td>\n",
       "    </tr>\n",
       "    <tr>\n",
       "      <th>6995</th>\n",
       "      <td>0.0</td>\n",
       "      <td>0.0</td>\n",
       "      <td>0.0</td>\n",
       "      <td>0.0</td>\n",
       "      <td>0.0</td>\n",
       "      <td>0.0</td>\n",
       "      <td>0.0</td>\n",
       "      <td>0.0</td>\n",
       "      <td>0.0</td>\n",
       "      <td>0.0</td>\n",
       "      <td>...</td>\n",
       "      <td>0.0</td>\n",
       "      <td>0.0</td>\n",
       "      <td>0.0</td>\n",
       "      <td>0.0</td>\n",
       "      <td>0.0</td>\n",
       "      <td>0.0</td>\n",
       "      <td>0.0</td>\n",
       "      <td>0.0</td>\n",
       "      <td>0.0</td>\n",
       "      <td>0.0</td>\n",
       "    </tr>\n",
       "    <tr>\n",
       "      <th>6996</th>\n",
       "      <td>0.0</td>\n",
       "      <td>0.0</td>\n",
       "      <td>0.0</td>\n",
       "      <td>0.0</td>\n",
       "      <td>0.0</td>\n",
       "      <td>0.0</td>\n",
       "      <td>0.0</td>\n",
       "      <td>0.0</td>\n",
       "      <td>0.0</td>\n",
       "      <td>0.0</td>\n",
       "      <td>...</td>\n",
       "      <td>0.0</td>\n",
       "      <td>0.0</td>\n",
       "      <td>0.0</td>\n",
       "      <td>0.0</td>\n",
       "      <td>0.0</td>\n",
       "      <td>0.0</td>\n",
       "      <td>0.0</td>\n",
       "      <td>0.0</td>\n",
       "      <td>0.0</td>\n",
       "      <td>0.0</td>\n",
       "    </tr>\n",
       "    <tr>\n",
       "      <th>6997</th>\n",
       "      <td>0.0</td>\n",
       "      <td>0.0</td>\n",
       "      <td>0.0</td>\n",
       "      <td>0.0</td>\n",
       "      <td>0.0</td>\n",
       "      <td>0.0</td>\n",
       "      <td>0.0</td>\n",
       "      <td>0.0</td>\n",
       "      <td>0.0</td>\n",
       "      <td>0.0</td>\n",
       "      <td>...</td>\n",
       "      <td>0.0</td>\n",
       "      <td>0.0</td>\n",
       "      <td>0.0</td>\n",
       "      <td>0.0</td>\n",
       "      <td>0.0</td>\n",
       "      <td>0.0</td>\n",
       "      <td>0.0</td>\n",
       "      <td>0.0</td>\n",
       "      <td>0.0</td>\n",
       "      <td>0.0</td>\n",
       "    </tr>\n",
       "    <tr>\n",
       "      <th>6998</th>\n",
       "      <td>0.0</td>\n",
       "      <td>0.0</td>\n",
       "      <td>0.0</td>\n",
       "      <td>0.0</td>\n",
       "      <td>0.0</td>\n",
       "      <td>0.0</td>\n",
       "      <td>0.0</td>\n",
       "      <td>0.0</td>\n",
       "      <td>0.0</td>\n",
       "      <td>0.0</td>\n",
       "      <td>...</td>\n",
       "      <td>0.0</td>\n",
       "      <td>0.0</td>\n",
       "      <td>0.0</td>\n",
       "      <td>0.0</td>\n",
       "      <td>0.0</td>\n",
       "      <td>0.0</td>\n",
       "      <td>0.0</td>\n",
       "      <td>0.0</td>\n",
       "      <td>0.0</td>\n",
       "      <td>0.0</td>\n",
       "    </tr>\n",
       "    <tr>\n",
       "      <th>6999</th>\n",
       "      <td>0.0</td>\n",
       "      <td>0.0</td>\n",
       "      <td>0.0</td>\n",
       "      <td>0.0</td>\n",
       "      <td>0.0</td>\n",
       "      <td>0.0</td>\n",
       "      <td>0.0</td>\n",
       "      <td>0.0</td>\n",
       "      <td>0.0</td>\n",
       "      <td>0.0</td>\n",
       "      <td>...</td>\n",
       "      <td>0.0</td>\n",
       "      <td>0.0</td>\n",
       "      <td>0.0</td>\n",
       "      <td>0.0</td>\n",
       "      <td>0.0</td>\n",
       "      <td>0.0</td>\n",
       "      <td>0.0</td>\n",
       "      <td>0.0</td>\n",
       "      <td>0.0</td>\n",
       "      <td>0.0</td>\n",
       "    </tr>\n",
       "  </tbody>\n",
       "</table>\n",
       "<p>7000 rows × 26677 columns</p>\n",
       "</div>"
      ],
      "text/plain": [
       "       aa  aaa  aac  aadhya  aae  aaes  aai  aais  aalg  aarabat  ...  \\\n",
       "0     0.0  0.0  0.0     0.0  0.0   0.0  0.0   0.0   0.0      0.0  ...   \n",
       "1     0.0  0.0  0.0     0.0  0.0   0.0  0.0   0.0   0.0      0.0  ...   \n",
       "2     0.0  0.0  0.0     0.0  0.0   0.0  0.0   0.0   0.0      0.0  ...   \n",
       "3     0.0  0.0  0.0     0.0  0.0   0.0  0.0   0.0   0.0      0.0  ...   \n",
       "4     0.0  0.0  0.0     0.0  0.0   0.0  0.0   0.0   0.0      0.0  ...   \n",
       "...   ...  ...  ...     ...  ...   ...  ...   ...   ...      ...  ...   \n",
       "6995  0.0  0.0  0.0     0.0  0.0   0.0  0.0   0.0   0.0      0.0  ...   \n",
       "6996  0.0  0.0  0.0     0.0  0.0   0.0  0.0   0.0   0.0      0.0  ...   \n",
       "6997  0.0  0.0  0.0     0.0  0.0   0.0  0.0   0.0   0.0      0.0  ...   \n",
       "6998  0.0  0.0  0.0     0.0  0.0   0.0  0.0   0.0   0.0      0.0  ...   \n",
       "6999  0.0  0.0  0.0     0.0  0.0   0.0  0.0   0.0   0.0      0.0  ...   \n",
       "\n",
       "      zuckerberg  zulogu  zulu  zuma  zumat  zwelenthemba  zwelethemba  zyi  \\\n",
       "0            0.0     0.0   0.0   0.0    0.0           0.0          0.0  0.0   \n",
       "1            0.0     0.0   0.0   0.0    0.0           0.0          0.0  0.0   \n",
       "2            0.0     0.0   0.0   0.0    0.0           0.0          0.0  0.0   \n",
       "3            0.0     0.0   0.0   0.0    0.0           0.0          0.0  0.0   \n",
       "4            0.0     0.0   0.0   0.0    0.0           0.0          0.0  0.0   \n",
       "...          ...     ...   ...   ...    ...           ...          ...  ...   \n",
       "6995         0.0     0.0   0.0   0.0    0.0           0.0          0.0  0.0   \n",
       "6996         0.0     0.0   0.0   0.0    0.0           0.0          0.0  0.0   \n",
       "6997         0.0     0.0   0.0   0.0    0.0           0.0          0.0  0.0   \n",
       "6998         0.0     0.0   0.0   0.0    0.0           0.0          0.0  0.0   \n",
       "6999         0.0     0.0   0.0   0.0    0.0           0.0          0.0  0.0   \n",
       "\n",
       "      zymec  zyuzinsky  \n",
       "0       0.0        0.0  \n",
       "1       0.0        0.0  \n",
       "2       0.0        0.0  \n",
       "3       0.0        0.0  \n",
       "4       0.0        0.0  \n",
       "...     ...        ...  \n",
       "6995    0.0        0.0  \n",
       "6996    0.0        0.0  \n",
       "6997    0.0        0.0  \n",
       "6998    0.0        0.0  \n",
       "6999    0.0        0.0  \n",
       "\n",
       "[7000 rows x 26677 columns]"
      ]
     },
     "execution_count": 15,
     "metadata": {},
     "output_type": "execute_result"
    }
   ],
   "source": [
    "vectorizer = TfidfVectorizer(strip_accents = 'ascii', stop_words='english', max_df = 0.50)\n",
    "#vectorizer = TfidfVectorizer(strip_accents = 'ascii')\n",
    "trsfm=vectorizer.fit_transform(X_train)\n",
    "tfidf = pd.DataFrame(trsfm.toarray(),columns=vectorizer.get_feature_names())\n",
    "tfidf"
   ]
  },
  {
   "cell_type": "markdown",
   "id": "c6bc6056",
   "metadata": {},
   "source": [
    "## 3.6 Train the Naive Bayes Model<a id='3.6_Train_the_Naive_Bayes_Model'></a>"
   ]
  },
  {
   "cell_type": "markdown",
   "id": "cf311e94",
   "metadata": {},
   "source": [
    "### 3.6.1 Set Up the Pipeline and Train<a id='3.6.1_Set_Up_the_Pipeline_and_Train'></a>"
   ]
  },
  {
   "cell_type": "markdown",
   "id": "21e37d73",
   "metadata": {},
   "source": [
    "**<font color='teal'>Next, I will set up a pipeline that takes the training data and applies the TF-IDF vectorizer, converts the resulting sparse data into a dense numpy array, and train the Naive Bayes model. The performance of the model on the training data is shown in the classification report and the confusion matrix. </font>**"
   ]
  },
  {
   "cell_type": "code",
   "execution_count": 90,
   "id": "70fc8b8a",
   "metadata": {},
   "outputs": [
    {
     "name": "stdout",
     "output_type": "stream",
     "text": [
      "                 precision    recall  f1-score   support\n",
      "\n",
      "Economic Growth       0.97      1.00      0.98      1739\n",
      "      Education       1.00      0.95      0.97      1733\n",
      "Gender Equality       0.96      0.99      0.98      1746\n",
      "Physical Health       1.00      0.98      0.99      1782\n",
      "\n",
      "       accuracy                           0.98      7000\n",
      "      macro avg       0.98      0.98      0.98      7000\n",
      "   weighted avg       0.98      0.98      0.98      7000\n",
      "\n"
     ]
    },
    {
     "data": {
      "image/png": "[encoded data removed]",
      "text/plain": [
       "<Figure size 720x720 with 2 Axes>"
      ]
     },
     "metadata": {
      "needs_background": "light"
     },
     "output_type": "display_data"
    }
   ],
   "source": [
    "pipe = Pipeline([\n",
    "    ('tfidf', TfidfVectorizer(stop_words='english', max_df = 0.50)),\n",
    "    ('dense', DenseTransformer()),\n",
    "    ('NB', GaussianNB())])\n",
    "\n",
    "pipe.fit(X_train,y_train)\n",
    "predicted_NB = pipe.predict(X_train)\n",
    "print(classification_report(y_train, predicted_NB))\n",
    "multiclass = confusion_matrix(y_train, predicted_NB)\n",
    "\n",
    "class_names = pipe.classes_\n",
    "\n",
    "fig, ax = plot_confusion_matrix(conf_mat=multiclass,\n",
    "                                colorbar=True,\n",
    "                                show_absolute=False,\n",
    "                                show_normed=True,\n",
    "                                class_names=class_names,\n",
    "                                figsize = (10,10))\n",
    "plt.show()"
   ]
  },
  {
   "cell_type": "markdown",
   "id": "3e600878",
   "metadata": {},
   "source": [
    "#### 3.6.1.1 Make Predictions<a id='3.6.1.1_Make_Predictions'></a>"
   ]
  },
  {
   "cell_type": "markdown",
   "id": "efaba657",
   "metadata": {},
   "source": [
    "**<font color='teal'>Next, I will look at the performance of the model on the testing dataset, which is shown in the classification report and the confusion matrix. These results show that the Naïve Bayes model is overfitting the training dataset. The average accuracy for the testing dataset is 0.68, which is 0.3 lower than that for the training dataset. </font>**"
   ]
  },
  {
   "cell_type": "code",
   "execution_count": 91,
   "id": "aaf603ad",
   "metadata": {},
   "outputs": [
    {
     "name": "stdout",
     "output_type": "stream",
     "text": [
      "                 precision    recall  f1-score   support\n",
      "\n",
      "Economic Growth       0.70      0.73      0.72       761\n",
      "      Education       0.67      0.56      0.61       767\n",
      "Gender Equality       0.64      0.71      0.68       754\n",
      "Physical Health       0.70      0.70      0.70       718\n",
      "\n",
      "       accuracy                           0.68      3000\n",
      "      macro avg       0.68      0.68      0.68      3000\n",
      "   weighted avg       0.68      0.68      0.68      3000\n",
      "\n"
     ]
    },
    {
     "data": {
      "image/png": "[encoded data removed]",
      "text/plain": [
       "<Figure size 720x720 with 2 Axes>"
      ]
     },
     "metadata": {
      "needs_background": "light"
     },
     "output_type": "display_data"
    }
   ],
   "source": [
    "predicted_NB = pipe.predict(X_test)\n",
    "print(classification_report(y_test, predicted_NB))\n",
    "\n",
    "multiclass = confusion_matrix(y_test, predicted_NB)\n",
    "\n",
    "class_names = pipe.classes_\n",
    "\n",
    "fig, ax = plot_confusion_matrix(conf_mat=multiclass,\n",
    "                                colorbar=True,\n",
    "                                show_absolute=False,\n",
    "                                show_normed=True,\n",
    "                                class_names=class_names,\n",
    "                                figsize = (10,10))\n",
    "plt.show()"
   ]
  },
  {
   "cell_type": "markdown",
   "id": "caa70cec",
   "metadata": {},
   "source": [
    "**<font color='teal'>Here I use cross-validation to further assess the performance of the model. We find that the accuracy varies from 0.60 to 0.64. </font>**"
   ]
  },
  {
   "cell_type": "code",
   "execution_count": 92,
   "id": "e36b2415",
   "metadata": {},
   "outputs": [
    {
     "data": {
      "text/plain": [
       "array([0.60785714, 0.61071429, 0.59714286, 0.64142857, 0.63357143])"
      ]
     },
     "execution_count": 92,
     "metadata": {},
     "output_type": "execute_result"
    }
   ],
   "source": [
    "cv_results = cross_validate(pipe, X_train, y_train, cv=5, scoring ='accuracy')\n",
    "cv_scores = cv_results['test_score']\n",
    "cv_scores"
   ]
  },
  {
   "cell_type": "markdown",
   "id": "3a57ddc4",
   "metadata": {},
   "source": [
    "### 3.6.2 Optimize Model with GridSearchCV<a id='3.6.2_Optimize_Model_with_GridSearchCV'></a>"
   ]
  },
  {
   "cell_type": "markdown",
   "id": "d3c17797",
   "metadata": {},
   "source": [
    "**<font color='teal'>To optimize the Naïve Bayes model, I used GridSearchCV to tune the variance smoothing parameter of the Gaussian Naïve Bayes algorithm.</font>**"
   ]
  },
  {
   "cell_type": "code",
   "execution_count": 93,
   "id": "8647a11c",
   "metadata": {},
   "outputs": [
    {
     "name": "stdout",
     "output_type": "stream",
     "text": [
      "Fitting 5 folds for each of 14 candidates, totalling 70 fits\n"
     ]
    },
    {
     "data": {
      "text/html": [
       "<style>#sk-container-id-1 {color: black;background-color: white;}#sk-container-id-1 pre{padding: 0;}#sk-container-id-1 div.sk-toggleable {background-color: white;}#sk-container-id-1 label.sk-toggleable__label {cursor: pointer;display: block;width: 100%;margin-bottom: 0;padding: 0.3em;box-sizing: border-box;text-align: center;}#sk-container-id-1 label.sk-toggleable__label-arrow:before {content: \"▸\";float: left;margin-right: 0.25em;color: #696969;}#sk-container-id-1 label.sk-toggleable__label-arrow:hover:before {color: black;}#sk-container-id-1 div.sk-estimator:hover label.sk-toggleable__label-arrow:before {color: black;}#sk-container-id-1 div.sk-toggleable__content {max-height: 0;max-width: 0;overflow: hidden;text-align: left;background-color: #f0f8ff;}#sk-container-id-1 div.sk-toggleable__content pre {margin: 0.2em;color: black;border-radius: 0.25em;background-color: #f0f8ff;}#sk-container-id-1 input.sk-toggleable__control:checked~div.sk-toggleable__content {max-height: 200px;max-width: 100%;overflow: auto;}#sk-container-id-1 input.sk-toggleable__control:checked~label.sk-toggleable__label-arrow:before {content: \"▾\";}#sk-container-id-1 div.sk-estimator input.sk-toggleable__control:checked~label.sk-toggleable__label {background-color: #d4ebff;}#sk-container-id-1 div.sk-label input.sk-toggleable__control:checked~label.sk-toggleable__label {background-color: #d4ebff;}#sk-container-id-1 input.sk-hidden--visually {border: 0;clip: rect(1px 1px 1px 1px);clip: rect(1px, 1px, 1px, 1px);height: 1px;margin: -1px;overflow: hidden;padding: 0;position: absolute;width: 1px;}#sk-container-id-1 div.sk-estimator {font-family: monospace;background-color: #f0f8ff;border: 1px dotted black;border-radius: 0.25em;box-sizing: border-box;margin-bottom: 0.5em;}#sk-container-id-1 div.sk-estimator:hover {background-color: #d4ebff;}#sk-container-id-1 div.sk-parallel-item::after {content: \"\";width: 100%;border-bottom: 1px solid gray;flex-grow: 1;}#sk-container-id-1 div.sk-label:hover label.sk-toggleable__label {background-color: #d4ebff;}#sk-container-id-1 div.sk-serial::before {content: \"\";position: absolute;border-left: 1px solid gray;box-sizing: border-box;top: 0;bottom: 0;left: 50%;z-index: 0;}#sk-container-id-1 div.sk-serial {display: flex;flex-direction: column;align-items: center;background-color: white;padding-right: 0.2em;padding-left: 0.2em;position: relative;}#sk-container-id-1 div.sk-item {position: relative;z-index: 1;}#sk-container-id-1 div.sk-parallel {display: flex;align-items: stretch;justify-content: center;background-color: white;position: relative;}#sk-container-id-1 div.sk-item::before, #sk-container-id-1 div.sk-parallel-item::before {content: \"\";position: absolute;border-left: 1px solid gray;box-sizing: border-box;top: 0;bottom: 0;left: 50%;z-index: -1;}#sk-container-id-1 div.sk-parallel-item {display: flex;flex-direction: column;z-index: 1;position: relative;background-color: white;}#sk-container-id-1 div.sk-parallel-item:first-child::after {align-self: flex-end;width: 50%;}#sk-container-id-1 div.sk-parallel-item:last-child::after {align-self: flex-start;width: 50%;}#sk-container-id-1 div.sk-parallel-item:only-child::after {width: 0;}#sk-container-id-1 div.sk-dashed-wrapped {border: 1px dashed gray;margin: 0 0.4em 0.5em 0.4em;box-sizing: border-box;padding-bottom: 0.4em;background-color: white;}#sk-container-id-1 div.sk-label label {font-family: monospace;font-weight: bold;display: inline-block;line-height: 1.2em;}#sk-container-id-1 div.sk-label-container {text-align: center;}#sk-container-id-1 div.sk-container {/* jupyter's `normalize.less` sets `[hidden] { display: none; }` but bootstrap.min.css set `[hidden] { display: none !important; }` so we also need the `!important` here to be able to override the default hidden behavior on the sphinx rendered scikit-learn.org. See: https://github.com/scikit-learn/scikit-learn/issues/21755 */display: inline-block !important;position: relative;}#sk-container-id-1 div.sk-text-repr-fallback {display: none;}</style><div id=\"sk-container-id-1\" class=\"sk-top-container\"><div class=\"sk-text-repr-fallback\"><pre>GridSearchCV(cv=5,\n",
       "             estimator=Pipeline(steps=[(&#x27;tfidf&#x27;,\n",
       "                                        TfidfVectorizer(max_df=0.5,\n",
       "                                                        stop_words=&#x27;english&#x27;)),\n",
       "                                       (&#x27;dense&#x27;, DenseTransformer()),\n",
       "                                       (&#x27;NB&#x27;, GaussianNB())]),\n",
       "             n_jobs=-1,\n",
       "             param_grid={&#x27;NB__var_smoothing&#x27;: [0.01, 0.001, 0.0001, 1e-05,\n",
       "                                               1e-06, 1e-07, 1e-08, 1e-09,\n",
       "                                               1e-10, 1e-11, 1e-12, 1e-13,\n",
       "                                               1e-14, 1e-15]},\n",
       "             scoring=&#x27;accuracy&#x27;, verbose=1)</pre><b>In a Jupyter environment, please rerun this cell to show the HTML representation or trust the notebook. <br />On GitHub, the HTML representation is unable to render, please try loading this page with nbviewer.org.</b></div><div class=\"sk-container\" hidden><div class=\"sk-item sk-dashed-wrapped\"><div class=\"sk-label-container\"><div class=\"sk-label sk-toggleable\"><input class=\"sk-toggleable__control sk-hidden--visually\" id=\"sk-estimator-id-1\" type=\"checkbox\" ><label for=\"sk-estimator-id-1\" class=\"sk-toggleable__label sk-toggleable__label-arrow\">GridSearchCV</label><div class=\"sk-toggleable__content\"><pre>GridSearchCV(cv=5,\n",
       "             estimator=Pipeline(steps=[(&#x27;tfidf&#x27;,\n",
       "                                        TfidfVectorizer(max_df=0.5,\n",
       "                                                        stop_words=&#x27;english&#x27;)),\n",
       "                                       (&#x27;dense&#x27;, DenseTransformer()),\n",
       "                                       (&#x27;NB&#x27;, GaussianNB())]),\n",
       "             n_jobs=-1,\n",
       "             param_grid={&#x27;NB__var_smoothing&#x27;: [0.01, 0.001, 0.0001, 1e-05,\n",
       "                                               1e-06, 1e-07, 1e-08, 1e-09,\n",
       "                                               1e-10, 1e-11, 1e-12, 1e-13,\n",
       "                                               1e-14, 1e-15]},\n",
       "             scoring=&#x27;accuracy&#x27;, verbose=1)</pre></div></div></div><div class=\"sk-parallel\"><div class=\"sk-parallel-item\"><div class=\"sk-item\"><div class=\"sk-label-container\"><div class=\"sk-label sk-toggleable\"><input class=\"sk-toggleable__control sk-hidden--visually\" id=\"sk-estimator-id-2\" type=\"checkbox\" ><label for=\"sk-estimator-id-2\" class=\"sk-toggleable__label sk-toggleable__label-arrow\">estimator: Pipeline</label><div class=\"sk-toggleable__content\"><pre>Pipeline(steps=[(&#x27;tfidf&#x27;, TfidfVectorizer(max_df=0.5, stop_words=&#x27;english&#x27;)),\n",
       "                (&#x27;dense&#x27;, DenseTransformer()), (&#x27;NB&#x27;, GaussianNB())])</pre></div></div></div><div class=\"sk-serial\"><div class=\"sk-item\"><div class=\"sk-serial\"><div class=\"sk-item\"><div class=\"sk-estimator sk-toggleable\"><input class=\"sk-toggleable__control sk-hidden--visually\" id=\"sk-estimator-id-3\" type=\"checkbox\" ><label for=\"sk-estimator-id-3\" class=\"sk-toggleable__label sk-toggleable__label-arrow\">TfidfVectorizer</label><div class=\"sk-toggleable__content\"><pre>TfidfVectorizer(max_df=0.5, stop_words=&#x27;english&#x27;)</pre></div></div></div><div class=\"sk-item\"><div class=\"sk-estimator sk-toggleable\"><input class=\"sk-toggleable__control sk-hidden--visually\" id=\"sk-estimator-id-4\" type=\"checkbox\" ><label for=\"sk-estimator-id-4\" class=\"sk-toggleable__label sk-toggleable__label-arrow\">DenseTransformer</label><div class=\"sk-toggleable__content\"><pre>DenseTransformer()</pre></div></div></div><div class=\"sk-item\"><div class=\"sk-estimator sk-toggleable\"><input class=\"sk-toggleable__control sk-hidden--visually\" id=\"sk-estimator-id-5\" type=\"checkbox\" ><label for=\"sk-estimator-id-5\" class=\"sk-toggleable__label sk-toggleable__label-arrow\">GaussianNB</label><div class=\"sk-toggleable__content\"><pre>GaussianNB()</pre></div></div></div></div></div></div></div></div></div></div></div></div>"
      ],
      "text/plain": [
       "GridSearchCV(cv=5,\n",
       "             estimator=Pipeline(steps=[('tfidf',\n",
       "                                        TfidfVectorizer(max_df=0.5,\n",
       "                                                        stop_words='english')),\n",
       "                                       ('dense', DenseTransformer()),\n",
       "                                       ('NB', GaussianNB())]),\n",
       "             n_jobs=-1,\n",
       "             param_grid={'NB__var_smoothing': [0.01, 0.001, 0.0001, 1e-05,\n",
       "                                               1e-06, 1e-07, 1e-08, 1e-09,\n",
       "                                               1e-10, 1e-11, 1e-12, 1e-13,\n",
       "                                               1e-14, 1e-15]},\n",
       "             scoring='accuracy', verbose=1)"
      ]
     },
     "execution_count": 93,
     "metadata": {},
     "output_type": "execute_result"
    }
   ],
   "source": [
    "parameters = {\n",
    "    'NB__var_smoothing': [1e-2, 1e-3, 1e-4, 1e-5, 1e-6, 1e-7, 1e-8, 1e-9, 1e-10, 1e-11, 1e-12, 1e-13, 1e-14, 1e-15]\n",
    "}\n",
    "clf_cv = GridSearchCV(pipe, cv = 5, param_grid = parameters, verbose = 1, n_jobs=-1, scoring ='accuracy')\n",
    "clf_cv.fit(X_train, y_train)"
   ]
  },
  {
   "cell_type": "code",
   "execution_count": 94,
   "id": "ec0aead0",
   "metadata": {},
   "outputs": [
    {
     "data": {
      "image/png": "[encoded data removed]",
      "text/plain": [
       "<Figure size 720x360 with 1 Axes>"
      ]
     },
     "metadata": {
      "needs_background": "light"
     },
     "output_type": "display_data"
    }
   ],
   "source": [
    "score_mean = clf_cv.cv_results_['mean_test_score']\n",
    "score_std = clf_cv.cv_results_['std_test_score']\n",
    "cv_k = [math.log10(k) for k in clf_cv.cv_results_['param_NB__var_smoothing']]\n",
    "best_k = math.log10(clf_cv.best_params_['NB__var_smoothing'])\n",
    "plt.subplots(figsize=(10, 5))\n",
    "plt.errorbar(cv_k, score_mean, yerr=score_std)\n",
    "plt.axvline(x=best_k, c='r', ls='--', alpha=.5)\n",
    "plt.xlabel('log10(k)')\n",
    "plt.ylabel('CV score (accuracy)')\n",
    "plt.title('Pipeline mean CV score (error bars +/- 1sd)');"
   ]
  },
  {
   "cell_type": "markdown",
   "id": "f28c181f",
   "metadata": {},
   "source": [
    "**<font color='teal'>Here we see that the accuracy is improved by 12% when the variance smoothing parameter is increased from the default value of 10^(-9) to 10^(-2).</font>**"
   ]
  },
  {
   "cell_type": "markdown",
   "id": "5bc85ff1",
   "metadata": {},
   "source": [
    "#### 3.6.2.1 Make Predictions<a id='3.6.2.1_Make_Predictions'></a>"
   ]
  },
  {
   "cell_type": "markdown",
   "id": "43a21085",
   "metadata": {},
   "source": [
    "**<font color='teal'>Below I assess the performance of the optimized Naive Bayes model on the training and testing datasets using the classification report and the confusion matrix.</font>**"
   ]
  },
  {
   "cell_type": "code",
   "execution_count": 95,
   "id": "a0265721",
   "metadata": {},
   "outputs": [
    {
     "name": "stdout",
     "output_type": "stream",
     "text": [
      "                 precision    recall  f1-score   support\n",
      "\n",
      "Economic Growth       0.93      0.94      0.94      1739\n",
      "      Education       0.97      0.88      0.92      1733\n",
      "Gender Equality       0.89      0.93      0.91      1746\n",
      "Physical Health       0.91      0.95      0.93      1782\n",
      "\n",
      "       accuracy                           0.92      7000\n",
      "      macro avg       0.93      0.92      0.92      7000\n",
      "   weighted avg       0.93      0.92      0.92      7000\n",
      "\n"
     ]
    },
    {
     "data": {
      "image/png": "[encoded data removed]",
      "text/plain": [
       "<Figure size 720x720 with 2 Axes>"
      ]
     },
     "metadata": {
      "needs_background": "light"
     },
     "output_type": "display_data"
    }
   ],
   "source": [
    "predicted_NB = clf_cv.predict(X_train)\n",
    "print(classification_report(y_train, predicted_NB))\n",
    "\n",
    "multiclass = confusion_matrix(y_train, predicted_NB)\n",
    "\n",
    "class_names = clf_cv.classes_\n",
    "\n",
    "fig, ax = plot_confusion_matrix(conf_mat=multiclass,\n",
    "                                colorbar=True,\n",
    "                                show_absolute=False,\n",
    "                                show_normed=True,\n",
    "                                class_names=class_names,\n",
    "                                figsize = (10,10))\n",
    "plt.show()"
   ]
  },
  {
   "cell_type": "code",
   "execution_count": 96,
   "id": "0628968d",
   "metadata": {},
   "outputs": [
    {
     "name": "stdout",
     "output_type": "stream",
     "text": [
      "                 precision    recall  f1-score   support\n",
      "\n",
      "Economic Growth       0.79      0.78      0.79       761\n",
      "      Education       0.83      0.62      0.71       767\n",
      "Gender Equality       0.67      0.79      0.73       754\n",
      "Physical Health       0.78      0.85      0.81       718\n",
      "\n",
      "       accuracy                           0.76      3000\n",
      "      macro avg       0.77      0.76      0.76      3000\n",
      "   weighted avg       0.77      0.76      0.76      3000\n",
      "\n"
     ]
    },
    {
     "data": {
      "image/png": "[encoded data removed]",
      "text/plain": [
       "<Figure size 720x720 with 2 Axes>"
      ]
     },
     "metadata": {
      "needs_background": "light"
     },
     "output_type": "display_data"
    }
   ],
   "source": [
    "predicted_NB = clf_cv.predict(X_test)\n",
    "print(classification_report(y_test, predicted_NB))\n",
    "\n",
    "multiclass = confusion_matrix(y_test, predicted_NB)\n",
    "\n",
    "class_names = clf_cv.classes_\n",
    "\n",
    "fig, ax = plot_confusion_matrix(conf_mat=multiclass,\n",
    "                                colorbar=True,\n",
    "                                show_absolute=False,\n",
    "                                show_normed=True,\n",
    "                                class_names=class_names,\n",
    "                                figsize = (10,10))\n",
    "plt.show()"
   ]
  },
  {
   "cell_type": "markdown",
   "id": "a47b453c",
   "metadata": {},
   "source": [
    "**<font color='teal'>When the model is applied on the test set, ‘Education’ projects are misclassified the most, and 20% of them get classified under ‘Gender Equality’. Average accuracy is 0.76, which is 17% less accurate compared to when the model is applied on the training set. This suggests that the Naïve Bayes algorithm is overfitting the training set.</font>**"
   ]
  },
  {
   "cell_type": "code",
   "execution_count": 97,
   "id": "30e8e88f",
   "metadata": {},
   "outputs": [],
   "source": [
    "actual_and_predictions = pd.DataFrame({'text': list(X_test), 'actual': list(y_test), 'predicted': predicted_NB})"
   ]
  },
  {
   "cell_type": "code",
   "execution_count": 98,
   "id": "774c0391",
   "metadata": {},
   "outputs": [
    {
     "data": {
      "text/html": [
       "<div>\n",
       "<style scoped>\n",
       "    .dataframe tbody tr th:only-of-type {\n",
       "        vertical-align: middle;\n",
       "    }\n",
       "\n",
       "    .dataframe tbody tr th {\n",
       "        vertical-align: top;\n",
       "    }\n",
       "\n",
       "    .dataframe thead th {\n",
       "        text-align: right;\n",
       "    }\n",
       "</style>\n",
       "<table border=\"1\" class=\"dataframe\">\n",
       "  <thead>\n",
       "    <tr style=\"text-align: right;\">\n",
       "      <th></th>\n",
       "      <th>text</th>\n",
       "      <th>actual</th>\n",
       "      <th>predicted</th>\n",
       "    </tr>\n",
       "  </thead>\n",
       "  <tbody>\n",
       "    <tr>\n",
       "      <th>5</th>\n",
       "      <td>spanish network large latino population morehe...</td>\n",
       "      <td>Education</td>\n",
       "      <td>Gender Equality</td>\n",
       "    </tr>\n",
       "    <tr>\n",
       "      <th>35</th>\n",
       "      <td>academic school refugee camp kenya project pro...</td>\n",
       "      <td>Education</td>\n",
       "      <td>Gender Equality</td>\n",
       "    </tr>\n",
       "    <tr>\n",
       "      <th>45</th>\n",
       "      <td>provide education wastepicker child project se...</td>\n",
       "      <td>Education</td>\n",
       "      <td>Gender Equality</td>\n",
       "    </tr>\n",
       "    <tr>\n",
       "      <th>55</th>\n",
       "      <td>train disadvantage student north nigeria proje...</td>\n",
       "      <td>Education</td>\n",
       "      <td>Gender Equality</td>\n",
       "    </tr>\n",
       "    <tr>\n",
       "      <th>62</th>\n",
       "      <td>teach young afghan woman teach afghan girl pro...</td>\n",
       "      <td>Education</td>\n",
       "      <td>Gender Equality</td>\n",
       "    </tr>\n",
       "    <tr>\n",
       "      <th>...</th>\n",
       "      <td>...</td>\n",
       "      <td>...</td>\n",
       "      <td>...</td>\n",
       "    </tr>\n",
       "    <tr>\n",
       "      <th>2906</th>\n",
       "      <td>give leadership skill secondary student projec...</td>\n",
       "      <td>Education</td>\n",
       "      <td>Gender Equality</td>\n",
       "    </tr>\n",
       "    <tr>\n",
       "      <th>2921</th>\n",
       "      <td>upscalling community cambodia kampong cham sma...</td>\n",
       "      <td>Education</td>\n",
       "      <td>Gender Equality</td>\n",
       "    </tr>\n",
       "    <tr>\n",
       "      <th>2966</th>\n",
       "      <td>revolutionize high education brazil inturma re...</td>\n",
       "      <td>Education</td>\n",
       "      <td>Gender Equality</td>\n",
       "    </tr>\n",
       "    <tr>\n",
       "      <th>2969</th>\n",
       "      <td>replace school earthquake zone bolivia click a...</td>\n",
       "      <td>Education</td>\n",
       "      <td>Gender Equality</td>\n",
       "    </tr>\n",
       "    <tr>\n",
       "      <th>2992</th>\n",
       "      <td>work teen educate nicaragua teen night school ...</td>\n",
       "      <td>Education</td>\n",
       "      <td>Gender Equality</td>\n",
       "    </tr>\n",
       "  </tbody>\n",
       "</table>\n",
       "<p>152 rows × 3 columns</p>\n",
       "</div>"
      ],
      "text/plain": [
       "                                                   text     actual  \\\n",
       "5     spanish network large latino population morehe...  Education   \n",
       "35    academic school refugee camp kenya project pro...  Education   \n",
       "45    provide education wastepicker child project se...  Education   \n",
       "55    train disadvantage student north nigeria proje...  Education   \n",
       "62    teach young afghan woman teach afghan girl pro...  Education   \n",
       "...                                                 ...        ...   \n",
       "2906  give leadership skill secondary student projec...  Education   \n",
       "2921  upscalling community cambodia kampong cham sma...  Education   \n",
       "2966  revolutionize high education brazil inturma re...  Education   \n",
       "2969  replace school earthquake zone bolivia click a...  Education   \n",
       "2992  work teen educate nicaragua teen night school ...  Education   \n",
       "\n",
       "            predicted  \n",
       "5     Gender Equality  \n",
       "35    Gender Equality  \n",
       "45    Gender Equality  \n",
       "55    Gender Equality  \n",
       "62    Gender Equality  \n",
       "...               ...  \n",
       "2906  Gender Equality  \n",
       "2921  Gender Equality  \n",
       "2966  Gender Equality  \n",
       "2969  Gender Equality  \n",
       "2992  Gender Equality  \n",
       "\n",
       "[152 rows x 3 columns]"
      ]
     },
     "execution_count": 98,
     "metadata": {},
     "output_type": "execute_result"
    }
   ],
   "source": [
    "actual_and_predictions[(actual_and_predictions['actual'] == 'Education') \\\n",
    "                      & (actual_and_predictions['predicted'] == 'Gender Equality')]"
   ]
  },
  {
   "cell_type": "markdown",
   "id": "704e41c7",
   "metadata": {},
   "source": [
    "## 3.7 Train the Support Vector Machine Model and Predict<a id='3.7_Train_the_Support_Vector_Machine_Model_and_Predict'></a>"
   ]
  },
  {
   "cell_type": "markdown",
   "id": "17594677",
   "metadata": {},
   "source": [
    "**<font color='teal'>While fitting the Naïve Bayes model took about an hour with hyperparameter tuning, fitting a linear SVM model took about 8 hours with no hyperparameter tuning. The confusion matrix below shows he average accuracy for the SVM model is 0.84, which is 8% higher than the optimized Naïve Bayes model previously discussed. The SVM model classifies the ‘Education’ projects better than the Naïve Bayes model by 20%.</font>**"
   ]
  },
  {
   "cell_type": "code",
   "execution_count": 99,
   "id": "94fc1105",
   "metadata": {},
   "outputs": [
    {
     "name": "stdout",
     "output_type": "stream",
     "text": [
      "Classification Report for Training Data\n",
      "                 precision    recall  f1-score   support\n",
      "\n",
      "Economic Growth       0.95      0.94      0.94      1739\n",
      "      Education       0.95      0.93      0.94      1733\n",
      "Gender Equality       0.92      0.94      0.93      1746\n",
      "Physical Health       0.95      0.96      0.95      1782\n",
      "\n",
      "       accuracy                           0.94      7000\n",
      "      macro avg       0.94      0.94      0.94      7000\n",
      "   weighted avg       0.94      0.94      0.94      7000\n",
      "\n",
      "Classification Report for Testing Data\n",
      "                 precision    recall  f1-score   support\n",
      "\n",
      "Economic Growth       0.85      0.83      0.84       761\n",
      "      Education       0.84      0.82      0.83       767\n",
      "Gender Equality       0.83      0.86      0.85       754\n",
      "Physical Health       0.84      0.86      0.85       718\n",
      "\n",
      "       accuracy                           0.84      3000\n",
      "      macro avg       0.84      0.84      0.84      3000\n",
      "   weighted avg       0.84      0.84      0.84      3000\n",
      "\n"
     ]
    },
    {
     "data": {
      "image/png": "[encoded data removed]",
      "text/plain": [
       "<Figure size 720x720 with 2 Axes>"
      ]
     },
     "metadata": {
      "needs_background": "light"
     },
     "output_type": "display_data"
    }
   ],
   "source": [
    "pipe = Pipeline([\n",
    "    ('tfidf', TfidfVectorizer(strip_accents = 'ascii', stop_words='english', max_df = 0.50)),\n",
    "    ('dense', DenseTransformer()),\n",
    "    ('SVC', SVC(kernel='linear'))])\n",
    "\n",
    "pipe.fit(X_train,y_train)\n",
    "predicted_svc = pipe.predict(X_train)\n",
    "print('Classification Report for Training Data')\n",
    "print(classification_report(y_train, predicted_svc))\n",
    "\n",
    "predicted_svc = pipe.predict(X_test)\n",
    "print('Classification Report for Testing Data')\n",
    "print(classification_report(y_test, predicted_svc))\n",
    "\n",
    "multiclass = confusion_matrix(y_test, predicted_svc)\n",
    "\n",
    "class_names = pipe.classes_\n",
    "\n",
    "fig, ax = plot_confusion_matrix(conf_mat=multiclass,\n",
    "                                colorbar=True,\n",
    "                                show_absolute=False,\n",
    "                                show_normed=True,\n",
    "                                class_names=class_names,\n",
    "                                figsize = (10,10))\n",
    "plt.show()"
   ]
  },
  {
   "cell_type": "markdown",
   "id": "b8cdafff",
   "metadata": {},
   "source": [
    "**<font color='teal'>Here I use cross-validation to further assess the performance of the model. We find that the accuracy varies from... </font>**"
   ]
  },
  {
   "cell_type": "code",
   "execution_count": null,
   "id": "4b793909",
   "metadata": {},
   "outputs": [],
   "source": [
    "pipe = Pipeline([\n",
    "    ('tfidf', TfidfVectorizer(stop_words='english', max_df = 0.50)),\n",
    "    ('dense', DenseTransformer()),\n",
    "    ('SVC', SVC(kernel='linear'))])\n",
    "\n",
    "cv_results = cross_validate(pipe, X_train, y_train, cv=3, scoring ='accuracy')\n",
    "cv_scores = cv_results['test_score']\n",
    "cv_scores"
   ]
  },
  {
   "cell_type": "markdown",
   "id": "158ee12d",
   "metadata": {},
   "source": [
    "**<font color='teal'>While both Bag-of-Words and TF-IDF are the most popular word-embedding methods, there a number of drawbacks: (1) They don't capture the context of the words and their similarity, (2) if the new sentences contain new words, then our vocabulary size would increase and thereby, the length of the vectors would increase too, making the dataset very sparse. This affects the efficiency of the training. To improve the efficiency of the model and better capture the context of words and their similarity, in the next notebook I will use the word2vec word-embedding method, which allows me to choose the size of the word vector.</font>**"
   ]
  },
  {
   "cell_type": "code",
   "execution_count": null,
   "id": "2740dc13",
   "metadata": {},
   "outputs": [],
   "source": []
  }
 ],
 "metadata": {
  "kernelspec": {
   "display_name": "topic_classification",
   "language": "python",
   "name": "topic_classification"
  },
  "language_info": {
   "codemirror_mode": {
    "name": "ipython",
    "version": 3
   },
   "file_extension": ".py",
   "mimetype": "text/x-python",
   "name": "python",
   "nbconvert_exporter": "python",
   "pygments_lexer": "ipython3",
   "version": "3.9.7"
  }
 },
 "nbformat": 4,
 "nbformat_minor": 5
}
