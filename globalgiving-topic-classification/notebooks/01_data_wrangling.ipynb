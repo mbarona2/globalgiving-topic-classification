{
 "cells": [
  {
   "cell_type": "markdown",
   "id": "ef26bfc1",
   "metadata": {},
   "source": [
    "# 1 Data wrangling<a id='1_Data_wrangling'></a>"
   ]
  },
  {
   "cell_type": "markdown",
   "id": "585e7414",
   "metadata": {},
   "source": [
    "## 1.1 Contents<a id='1.1_Contents'></a>\n",
    "* [1 Data wrangling](#1_Data_wrangling)\n",
    "  * [1.1 Contents](#1.1_Contents)\n",
    "  * [1.2 Introduction](#1.2_Introduction)\n",
    "    * [1.2.1 Recap Of Data Science Problem](#1.2.1_Recap_Of_Data_Science_Problem)\n",
    "    * [1.2.2 Introduction to Notebook](#1.2.2_Introduction_to_Notebook)\n",
    "  * [1.3 Objectives](#1.3_Objectives)\n",
    "  * [1.4 Imports](#1.4_Imports)\n",
    "  * [1.5 Collect, Clean, and Save Data](#1.5_Collect,_Clean,_and_Save_Data)"
   ]
  },
  {
   "cell_type": "markdown",
   "id": "1d8e22e7",
   "metadata": {},
   "source": [
    "## 1.2 Introduction<a id='1.2_Introduction'></a>"
   ]
  },
  {
   "cell_type": "markdown",
   "id": "16a8e0b0",
   "metadata": {},
   "source": [
    "### 1.2.1 Recap of Data Science Problem<a id='1.2.1_Recap_Of_Data_Science_Problem'></a>"
   ]
  },
  {
   "cell_type": "markdown",
   "id": "bebdb781",
   "metadata": {},
   "source": [
    "The mission of GlobalGiving is “to transform aid and philanthropy to accelerate community-led change.” To do this, GlobalGiving provides a web-based fundraising platform that supports nonprofits by connecting them with donors and companies. A nonprofit organization can use this platform to pitch their charitable projects on the GlobalGiving website to potential donors. Donors can browse on the website and select from a variety of projects to contribute to. Since 2002, more than 1.1M donors on GlobalGiving have donated more than $530 million to support more than 28,000 projects in 170 countries. \n",
    "The nonprofit organizations pitch their development projects by describing the mission and long-term impact of the project in the project description. Based on the nature of the project, GlobalGiving organizes the projects by themes such as education, gender equality, child protection, economic growth, among others. Currently, there are 14,720 active projects organized under 28 different themes. It can be tedious, expensive, and time-consuming to manually assign each project to a theme. Therefore, the goal of this capstone project is to use machine learning to assign a project to a theme.  "
   ]
  },
  {
   "cell_type": "markdown",
   "id": "c993f369",
   "metadata": {},
   "source": [
    "### 1.2.2 Introduction to Notebook<a id='1.2.2_Introduction_to_Notebook'></a>"
   ]
  },
  {
   "cell_type": "markdown",
   "id": "9520a55c",
   "metadata": {},
   "source": [
    "In this notebook I will collect the dataset for this project using GlobalGiving's API. For each project, I will collect the title and the descriptions for the activities, challenge, solution, and long-term impact. I will clean the text by removing numbers, hyphens, stopwords, and punctuation. I will use lemmatization to reduce words to their *lemma*, or root word. Then I will save the data in a .csv file."
   ]
  },
  {
   "cell_type": "markdown",
   "id": "539a7212",
   "metadata": {},
   "source": [
    "## 1.3 Objectives<a id='1.3_Objectives'></a>"
   ]
  },
  {
   "cell_type": "markdown",
   "id": "d27a4645",
   "metadata": {},
   "source": [
    "1. Collect all text related to a project using GlobalGiving's API.\n",
    "2. Clean the text\n",
    "   * Remove numbers, hyphens, stopwords, and punctuation\n",
    "   * Reduce words to their *lemma* or root word\n",
    "3. Save data in a .csv file"
   ]
  },
  {
   "cell_type": "markdown",
   "id": "fad2c5ad",
   "metadata": {},
   "source": [
    "## 1.4 Imports<a id='1.4_Imports'></a>"
   ]
  },
  {
   "cell_type": "code",
   "execution_count": 2,
   "id": "2e7271a9",
   "metadata": {},
   "outputs": [
    {
     "name": "stderr",
     "output_type": "stream",
     "text": [
      "[nltk_data] Downloading package stopwords to\n",
      "[nltk_data]     C:\\Users\\melis\\AppData\\Roaming\\nltk_data...\n",
      "[nltk_data]   Package stopwords is already up-to-date!\n",
      "[nltk_data] Downloading package punkt to\n",
      "[nltk_data]     C:\\Users\\melis\\AppData\\Roaming\\nltk_data...\n",
      "[nltk_data]   Package punkt is already up-to-date!\n",
      "[nltk_data] Downloading package wordnet to\n",
      "[nltk_data]     C:\\Users\\melis\\AppData\\Roaming\\nltk_data...\n",
      "[nltk_data]   Package wordnet is already up-to-date!\n",
      "[nltk_data] Downloading package omw-1.4 to\n",
      "[nltk_data]     C:\\Users\\melis\\AppData\\Roaming\\nltk_data...\n",
      "[nltk_data]   Package omw-1.4 is already up-to-date!\n",
      "[nltk_data] Downloading package averaged_perceptron_tagger to\n",
      "[nltk_data]     C:\\Users\\melis\\AppData\\Roaming\\nltk_data...\n",
      "[nltk_data]   Package averaged_perceptron_tagger is already up-to-\n",
      "[nltk_data]       date!\n"
     ]
    }
   ],
   "source": [
    "import os\n",
    "from dotenv import load_dotenv\n",
    "import requests\n",
    "import xmltodict, json\n",
    "import string\n",
    "from sklearn.feature_extraction.text import CountVectorizer\n",
    "from sklearn.feature_extraction.text import TfidfVectorizer\n",
    "import random\n",
    "import pandas as pd\n",
    "import seaborn as sns\n",
    "import matplotlib.pyplot as plt\n",
    "from wordcloud import WordCloud\n",
    "from textwrap import wrap\n",
    "import nltk\n",
    "nltk.download('stopwords')\n",
    "nltk.download('punkt')\n",
    "nltk.download('wordnet')\n",
    "nltk.download('omw-1.4')\n",
    "nltk.download('averaged_perceptron_tagger')\n",
    "from nltk.corpus import stopwords\n",
    "from nltk.corpus import wordnet as wn\n",
    "from nltk.tokenize import word_tokenize\n",
    "from nltk import pos_tag\n",
    "from nltk.stem.wordnet import WordNetLemmatizer\n",
    "from collections import defaultdict\n",
    "import spacy\n",
    "from spacy.language import Language\n",
    "from spacy_langdetect import LanguageDetector"
   ]
  },
  {
   "cell_type": "markdown",
   "id": "231badeb",
   "metadata": {},
   "source": [
    "## 1.5 Collect, Clean, and Save Data<a id='1.5_Collect,_Clean,_and_Save_Data'></a>"
   ]
  },
  {
   "cell_type": "markdown",
   "id": "b3487e02",
   "metadata": {},
   "source": [
    "**<font color='teal'>get api key from .env file</font>**"
   ]
  },
  {
   "cell_type": "code",
   "execution_count": 3,
   "id": "648a98da",
   "metadata": {},
   "outputs": [],
   "source": [
    "load_dotenv()\n",
    "API_KEY = os.getenv('API_KEY')"
   ]
  },
  {
   "cell_type": "markdown",
   "id": "dd06336b",
   "metadata": {},
   "source": [
    "**<font color='teal'>Use Global Giving's API to access all active projects with respective themes</font>**"
   ]
  },
  {
   "cell_type": "code",
   "execution_count": 4,
   "id": "aa7830db",
   "metadata": {},
   "outputs": [],
   "source": [
    "# Assign URL to variable: url\n",
    "url = 'https://api.globalgiving.org/api/public/projectservice/themes/projects/ids?api_key={}'.format(API_KEY)\n",
    "\n",
    "# Package the request, send the request and catch the response: r\n",
    "r = requests.get(url)"
   ]
  },
  {
   "cell_type": "markdown",
   "id": "2f0bc560",
   "metadata": {},
   "source": [
    "**<font color='teal'>The response is in xml format, so we will use xmltodict to convert it to a dictionary</font>**"
   ]
  },
  {
   "cell_type": "code",
   "execution_count": 5,
   "id": "2b133610",
   "metadata": {},
   "outputs": [],
   "source": [
    "data_dict = xmltodict.parse(r.text)"
   ]
  },
  {
   "cell_type": "markdown",
   "id": "cc2d0cad",
   "metadata": {},
   "source": [
    "**<font color='teal'>Next I will take a look at the keys find what will lead me to the themes and the project ID's</font>**"
   ]
  },
  {
   "cell_type": "code",
   "execution_count": 6,
   "id": "d9af5933",
   "metadata": {},
   "outputs": [
    {
     "name": "stdout",
     "output_type": "stream",
     "text": [
      "Wildlife Conservation\n",
      "14296\n"
     ]
    }
   ],
   "source": [
    "print(data_dict['themes']['theme'][27]['name'])\n",
    "print(data_dict['themes']['theme'][27]['projects']['project'][430]['id'])"
   ]
  },
  {
   "cell_type": "markdown",
   "id": "919fe14b",
   "metadata": {},
   "source": [
    "**<font color='teal'>Next I will use a for loop to get a dictionary with the just the themes and their respective projects. This dictionary will be named \"theme_and_proj_id\"</font>**"
   ]
  },
  {
   "cell_type": "code",
   "execution_count": 7,
   "id": "688f92b9",
   "metadata": {},
   "outputs": [
    {
     "data": {
      "text/plain": [
       "dict_keys(['Animal Welfare', 'Child Protection', 'Climate Action', 'Peace and Reconciliation', 'Disaster Response', 'Economic Growth', 'Education', 'Ecosystem Restoration', 'Gender Equality', 'Physical Health', 'Ending Human Trafficking', 'Justice and Human Rights', 'Sport', 'Digital Literacy', 'Food Security', 'Arts and Culture', 'LGBTQIA+ Equality', 'COVID-19', 'Clean Water', 'Disability Rights', 'Ending Abuse', 'Mental Health', 'Racial Justice', 'Refugee Rights', 'Reproductive Health', 'Safe Housing', 'Sustainable Agriculture', 'Wildlife Conservation'])"
      ]
     },
     "execution_count": 7,
     "metadata": {},
     "output_type": "execute_result"
    }
   ],
   "source": [
    "theme_and_proj_id = {}\n",
    "\n",
    "for i in range(len(data_dict['themes']['theme'])):\n",
    "    theme = data_dict['themes']['theme'][i]['name']\n",
    "    project_id_list = []\n",
    "    for j in range(len(data_dict['themes']['theme'][i]['projects']['project'])):\n",
    "        project_id_list.append(int(data_dict['themes']['theme'][i]['projects']['project'][j]['id']))\n",
    "    theme_and_proj_id[theme] = project_id_list\n",
    "\n",
    "theme_and_proj_id.keys()"
   ]
  },
  {
   "cell_type": "markdown",
   "id": "a3e74c8f",
   "metadata": {},
   "source": [
    "**<font color='teal'>Next I want to access the summary, challenge, solution, and long term impact of a [project](https://www.globalgiving.org/projects/trees-for-tribes-1/) using Global Giving's API. In the example below, the text is in portuguese and one of the texts is of 'NoneType'. So our data cleaning will take care of these issues as well.</font>**"
   ]
  },
  {
   "cell_type": "code",
   "execution_count": 8,
   "id": "1b751247",
   "metadata": {},
   "outputs": [],
   "source": [
    "# Assign URL to variable: url\n",
    "url = 'https://api.globalgiving.org/api/public/projectservice/projects/39630?api_key=efee163e-82d8-413b-955e-c2dcc7b4bfba'\n",
    "\n",
    "# Package the request, send the request and catch the response: r\n",
    "project = requests.get(url)\n",
    "\n",
    "# Print the text of the response\n",
    "projectinfo_dict = xmltodict.parse(project.text)\n",
    "theme = projectinfo_dict['project']['themeName']\n",
    "longtermimpact = projectinfo_dict['project']['longTermImpact']\n",
    "challenge = projectinfo_dict['project']['need']\n",
    "summary = projectinfo_dict['project']['summary']\n",
    "solution = projectinfo_dict['project']['activities']\n",
    "title = projectinfo_dict['project']['title']"
   ]
  },
  {
   "cell_type": "code",
   "execution_count": 9,
   "id": "b51486c8",
   "metadata": {},
   "outputs": [
    {
     "data": {
      "text/plain": [
       "'Instituto Projeto Esportivo e Sociocultural JB12'"
      ]
     },
     "execution_count": 9,
     "metadata": {},
     "output_type": "execute_result"
    }
   ],
   "source": [
    "projectinfo_dict['project']['title']"
   ]
  },
  {
   "cell_type": "code",
   "execution_count": 10,
   "id": "718e3969",
   "metadata": {},
   "outputs": [
    {
     "data": {
      "text/plain": [
       "'Animal Welfare'"
      ]
     },
     "execution_count": 10,
     "metadata": {},
     "output_type": "execute_result"
    }
   ],
   "source": [
    "theme"
   ]
  },
  {
   "cell_type": "code",
   "execution_count": 11,
   "id": "9895c7f5",
   "metadata": {},
   "outputs": [
    {
     "data": {
      "text/plain": [
       "'Instituto Projeto Esportivo e Sociocultural JB12'"
      ]
     },
     "execution_count": 11,
     "metadata": {},
     "output_type": "execute_result"
    }
   ],
   "source": [
    "title"
   ]
  },
  {
   "cell_type": "code",
   "execution_count": 12,
   "id": "0839e178",
   "metadata": {},
   "outputs": [
    {
     "data": {
      "text/plain": [
       "'Inovar, motivar e realizar acoes esportivas de cunho humanista, cidadao, socioeducativo e cultural, prioritariamente pelo e para os(a) jovens, na perspectiva de contribuir para que sejam protagonistas de sua propria historia'"
      ]
     },
     "execution_count": 12,
     "metadata": {},
     "output_type": "execute_result"
    }
   ],
   "source": [
    "summary"
   ]
  },
  {
   "cell_type": "code",
   "execution_count": 13,
   "id": "306bc3b2",
   "metadata": {},
   "outputs": [
    {
     "data": {
      "text/plain": [
       "'Inovar, motivar e realizar acoes esportivas de cunho humanista, cidadao, socioeducativo e cultural, prioritariamente pelo e para os(a) jovens, na perspectiva de contribuir para que sejam protagonistas de sua propria historia'"
      ]
     },
     "execution_count": 13,
     "metadata": {},
     "output_type": "execute_result"
    }
   ],
   "source": [
    "challenge"
   ]
  },
  {
   "cell_type": "code",
   "execution_count": 14,
   "id": "f6daf63a",
   "metadata": {},
   "outputs": [
    {
     "data": {
      "text/plain": [
       "NoneType"
      ]
     },
     "execution_count": 14,
     "metadata": {},
     "output_type": "execute_result"
    }
   ],
   "source": [
    "type(solution)"
   ]
  },
  {
   "cell_type": "code",
   "execution_count": 15,
   "id": "93ea8e5c",
   "metadata": {},
   "outputs": [
    {
     "data": {
      "text/plain": [
       "'Inovar, motivar e realizar acoes esportivas de cunho humanista, cidadao, socioeducativo e cultural, prioritariamente pelo e para os(a) jovens, na perspectiva de contribuir para que sejam protagonistas de sua propria historia'"
      ]
     },
     "execution_count": 15,
     "metadata": {},
     "output_type": "execute_result"
    }
   ],
   "source": [
    "longtermimpact"
   ]
  },
  {
   "cell_type": "markdown",
   "id": "f9dce695",
   "metadata": {},
   "source": [
    "**<font color='teal'>Here I will combine the title, summary, challenge, and solution into one long text, which I will clean and get ready for NLP</font>**"
   ]
  },
  {
   "cell_type": "code",
   "execution_count": 16,
   "id": "9ea71a59",
   "metadata": {},
   "outputs": [
    {
     "data": {
      "text/plain": [
       "'instituto projeto esportivo e sociocultural jb inovar motivar e realizar acoes esportivas de cunho humanista cidadao socioeducativo e cultural prioritariamente pelo e para osa jovens na perspectiva de contribuir para que sejam protagonistas de sua propria historia inovar motivar e realizar acoes esportivas de cunho humanista cidadao socioeducativo e cultural prioritariamente pelo e para osa jovens na perspectiva de contribuir para que sejam protagonistas de sua propria historia inovar motivar e realizar acoes esportivas de cunho humanista cidadao socioeducativo e cultural prioritariamente pelo e para osa jovens na perspectiva de contribuir para que sejam protagonistas de sua propria historia'"
      ]
     },
     "execution_count": 16,
     "metadata": {},
     "output_type": "execute_result"
    }
   ],
   "source": [
    "text_list = [title, summary, challenge, solution, longtermimpact]\n",
    "\n",
    "#filter list of texts for those that contain strings\n",
    "text = ' '.join(filter(lambda x: x if x is not None else '', text_list))\n",
    "\n",
    "#lowercase the text\n",
    "text=text.lower()\n",
    "\n",
    "#remove numbers\n",
    "text = ''.join([i for i in text if not i.isdigit()])\n",
    "\n",
    "#replace hyphens with spaces\n",
    "text = text.replace('-', ' ')\n",
    "\n",
    "#remove punctuation\n",
    "punct = string.punctuation\n",
    "text = text.translate(str.maketrans('','', punct))\n",
    "\n",
    "#remove extra spaces\n",
    "text = \" \".join(text.split())\n",
    "\n",
    "#remove stopwords\n",
    "stop_words = set(stopwords.words('english')) \n",
    "\n",
    "# Tokenize the sentence\n",
    "words = word_tokenize(text)\n",
    "filtered_list = []\n",
    "for w in words:\n",
    "    if w.lower() not in stop_words:\n",
    "        filtered_list.append(w)\n",
    "text = \" \".join(filtered_list)\n",
    "\n",
    "#Use lemmatization\n",
    "tag_map = defaultdict(lambda : wn.NOUN)\n",
    "tag_map['J'] = wn.ADJ\n",
    "tag_map['V'] = wn.VERB\n",
    "tag_map['R'] = wn.ADV\n",
    "\n",
    "tokens = word_tokenize(text)\n",
    "lemma_function = WordNetLemmatizer()\n",
    "lemma_list = []\n",
    "for token, tag in pos_tag(tokens):\n",
    "    lemma = lemma_function.lemmatize(token, tag_map[tag[0]])\n",
    "    lemma_list.append(lemma)\n",
    "    \n",
    "text = \" \".join(lemma_list)\n",
    "text"
   ]
  },
  {
   "cell_type": "markdown",
   "id": "d9abcc8f",
   "metadata": {},
   "source": [
    "**<font color='teal'>The function below detects the language of the text, which is portuguese</font>**"
   ]
  },
  {
   "cell_type": "code",
   "execution_count": 17,
   "id": "77715f4e",
   "metadata": {},
   "outputs": [
    {
     "data": {
      "text/plain": [
       "<spacy_langdetect.spacy_langdetect.LanguageDetector at 0x177b334f130>"
      ]
     },
     "execution_count": 17,
     "metadata": {},
     "output_type": "execute_result"
    }
   ],
   "source": [
    "def get_lang_detector(nlp, name):\n",
    "    return LanguageDetector()\n",
    "\n",
    "nlp = spacy.load('en_core_web_sm')\n",
    "Language.factory(\"language_detector\", func=get_lang_detector)\n",
    "nlp.add_pipe('language_detector', last=True)"
   ]
  },
  {
   "cell_type": "code",
   "execution_count": 18,
   "id": "2a41c123",
   "metadata": {},
   "outputs": [
    {
     "data": {
      "text/plain": [
       "{'language': 'pt', 'score': 0.9999937785456534}"
      ]
     },
     "execution_count": 18,
     "metadata": {},
     "output_type": "execute_result"
    }
   ],
   "source": [
    "doc = nlp(text)\n",
    "lang_dict = doc._.language\n",
    "lang_dict"
   ]
  },
  {
   "cell_type": "markdown",
   "id": "8fe57067",
   "metadata": {},
   "source": [
    "**<font color='teal'>Next, I will combine the steps above into a function that takes in a project URL and outputs clean text. Another functional also detects the language of the text. Later on, I will determine how many of the projects are not in English. If there isn't a lot of them, they can be removed from the dataset.</font>**"
   ]
  },
  {
   "cell_type": "code",
   "execution_count": 19,
   "id": "29fee871",
   "metadata": {},
   "outputs": [],
   "source": [
    "def get_clean_text(url):\n",
    "    # Package the request, send the request and catch the response: r\n",
    "    project = requests.get(url)\n",
    "\n",
    "    # conver the response to a dictionary\n",
    "    projectinfo_dict = xmltodict.parse(project.text)\n",
    "    \n",
    "    #gather the theme, longtermimpact, summary, challenge, and solution. \n",
    "    #If they are not present, set these variables equal to an empty string\n",
    "    try:\n",
    "        theme = projectinfo_dict['project']['themeName']\n",
    "    except KeyError:\n",
    "        theme = ''\n",
    "    try:\n",
    "        longtermimpact = projectinfo_dict['project']['longTermImpact']\n",
    "    except KeyError:\n",
    "        longtermimpact = ''\n",
    "    try:\n",
    "        challenge = projectinfo_dict['project']['need']\n",
    "    except KeyError:\n",
    "        challenge = ''\n",
    "    try:\n",
    "        summary = projectinfo_dict['project']['summary']\n",
    "    except KeyError:\n",
    "        summary = ''\n",
    "    try:\n",
    "        solution = projectinfo_dict['project']['activities']\n",
    "    except KeyError:\n",
    "        solution = ''\n",
    "    try:\n",
    "        title = projectinfo_dict['project']['title']\n",
    "    except KeyError:\n",
    "        title = ''\n",
    "    \n",
    "    text_list = [title, summary, challenge, solution, longtermimpact]\n",
    "\n",
    "    #filter list of texts for those that contain strings\n",
    "    text = ' '.join(filter(lambda x: x if x is not None else '', text_list))\n",
    "\n",
    "    #lowercase the text\n",
    "    text=text.lower()\n",
    "\n",
    "    #remove numbers\n",
    "    text = ''.join([i for i in text if not i.isdigit()])\n",
    "\n",
    "    #replace hyphens with spaces\n",
    "    text = text.replace('-', ' ')\n",
    "\n",
    "    #remove punctuation\n",
    "    punct = string.punctuation\n",
    "    text = text.translate(str.maketrans('','', punct))\n",
    "\n",
    "    #remove extra spaces\n",
    "    text = \" \".join(text.split())\n",
    "\n",
    "    #remove stopwords\n",
    "    stop_words = set(stopwords.words('english')) \n",
    "\n",
    "    # Tokenize the sentence\n",
    "    words = word_tokenize(text)\n",
    "    filtered_list = []\n",
    "    for w in words:\n",
    "        if w.lower() not in stop_words:\n",
    "            filtered_list.append(w)\n",
    "    text = \" \".join(filtered_list)\n",
    "\n",
    "    #Use lemmatization\n",
    "    tag_map = defaultdict(lambda : wn.NOUN)\n",
    "    tag_map['J'] = wn.ADJ\n",
    "    tag_map['V'] = wn.VERB\n",
    "    tag_map['R'] = wn.ADV\n",
    "\n",
    "    tokens = word_tokenize(text)\n",
    "    lemma_function = WordNetLemmatizer()\n",
    "    lemma_list = []\n",
    "    for token, tag in pos_tag(tokens):\n",
    "        lemma = lemma_function.lemmatize(token, tag_map[tag[0]])\n",
    "        lemma_list.append(lemma)\n",
    "\n",
    "    text = \" \".join(lemma_list)\n",
    "    return text"
   ]
  },
  {
   "cell_type": "markdown",
   "id": "498a0b60",
   "metadata": {},
   "source": [
    "**<font color='teal'>Here I will randomly select 20 projects from the following themes: COVID-19, disaster response, climate action, education, and gender equality. Then I will use the function I just created to extract and clean the text for each project</font>**"
   ]
  },
  {
   "cell_type": "code",
   "execution_count": 20,
   "id": "fa476ae9",
   "metadata": {},
   "outputs": [],
   "source": [
    "popular_themes = ['COVID-19','Disaster Response','Climate Action','Education','Gender Equality']\n",
    "\n",
    "project_ids = []\n",
    "themes = []\n",
    "texts = []\n",
    "\n",
    "for theme in popular_themes:\n",
    "    IDs = random.sample(theme_and_proj_id[theme],20)\n",
    "    for ID in IDs:\n",
    "        themes.append(theme)\n",
    "        project_ids.append(ID)\n",
    "        url = 'https://api.globalgiving.org/api/public/projectservice/projects/{}?api_key={}'.format(str(ID),API_KEY)\n",
    "        text = get_clean_text(url)\n",
    "        texts.append(text)"
   ]
  },
  {
   "cell_type": "markdown",
   "id": "9ca38ff9",
   "metadata": {},
   "source": [
    "**<font color='teal'>The next step is to use the bag-of-words model to count the words in each of the texts. This will also be organized in Pandas DataFrame.</font>**"
   ]
  },
  {
   "cell_type": "code",
   "execution_count": 21,
   "id": "a2e7d9e8",
   "metadata": {},
   "outputs": [
    {
     "name": "stderr",
     "output_type": "stream",
     "text": [
      "C:\\Users\\melis\\Envs\\topic_classification\\lib\\site-packages\\sklearn\\utils\\deprecation.py:87: FutureWarning: Function get_feature_names is deprecated; get_feature_names is deprecated in 1.0 and will be removed in 1.2. Please use get_feature_names_out instead.\n",
      "  warnings.warn(msg, category=FutureWarning)\n"
     ]
    }
   ],
   "source": [
    "count_vect = CountVectorizer()\n",
    "counts = count_vect.fit_transform(texts)\n",
    "bw = pd.DataFrame(counts.toarray(),columns=count_vect.get_feature_names(),index=project_ids)\n",
    "bw['theme'] = themes"
   ]
  },
  {
   "cell_type": "markdown",
   "id": "01e94e07",
   "metadata": {},
   "source": [
    "**<font color='teal'>Here I will look at the most common words for each theme</font>**"
   ]
  },
  {
   "cell_type": "code",
   "execution_count": 22,
   "id": "d764e9f5",
   "metadata": {},
   "outputs": [
    {
     "data": {
      "image/png": "[encoded data removed]",
      "text/plain": [
       "<Figure size 432x288 with 1 Axes>"
      ]
     },
     "metadata": {
      "needs_background": "light"
     },
     "output_type": "display_data"
    },
    {
     "data": {
      "image/png": "[encoded data removed]",
      "text/plain": [
       "<Figure size 432x288 with 1 Axes>"
      ]
     },
     "metadata": {
      "needs_background": "light"
     },
     "output_type": "display_data"
    },
    {
     "data": {
      "image/png": "[encoded data removed]",
      "text/plain": [
       "<Figure size 432x288 with 1 Axes>"
      ]
     },
     "metadata": {
      "needs_background": "light"
     },
     "output_type": "display_data"
    },
    {
     "data": {
      "image/png": "[encoded data removed]",
      "text/plain": [
       "<Figure size 432x288 with 1 Axes>"
      ]
     },
     "metadata": {
      "needs_background": "light"
     },
     "output_type": "display_data"
    },
    {
     "data": {
      "image/png": "[encoded data removed]",
      "text/plain": [
       "<Figure size 432x288 with 1 Axes>"
      ]
     },
     "metadata": {
      "needs_background": "light"
     },
     "output_type": "display_data"
    }
   ],
   "source": [
    "grouped_bw = bw.groupby('theme').sum()\n",
    "for theme in popular_themes:\n",
    "    theme_df = grouped_bw.loc[theme].sort_values(ascending = False)\n",
    "    most_common_words = grouped_bw.loc[theme].sort_values(ascending = False).index[:15]\n",
    "    fig, ax = plt.subplots()\n",
    "    theme_df[most_common_words].plot.barh()\n",
    "    ax.set_title(theme)\n",
    "    plt.show()"
   ]
  },
  {
   "cell_type": "markdown",
   "id": "41652a39",
   "metadata": {},
   "source": [
    "**<font color='teal'>Since it didn't take long to obtain 20 projects for the most popular themes, now I will attempt to get all the projects and organize this into a .csv file that will contain the project_id, the text, the theme, and the language, and whether they are active projects or not.</font>**"
   ]
  },
  {
   "cell_type": "code",
   "execution_count": 24,
   "id": "a2a1ec0a",
   "metadata": {},
   "outputs": [],
   "source": [
    "themes = theme_and_proj_id.keys()\n",
    "\n",
    "project_ids = []\n",
    "texts = []\n",
    "languages = []\n",
    "active = []\n",
    "theme_list = []\n",
    "\n",
    "for theme in themes:\n",
    "    IDs = theme_and_proj_id[theme]\n",
    "    for ID in IDs:\n",
    "        project_ids.append(ID)\n",
    "        url = 'https://api.globalgiving.org/api/public/projectservice/projects/{}?api_key={}'.format(str(ID),API_KEY)\n",
    "        url_dict = xmltodict.parse(project.text)\n",
    "        status = url_dict['project']['active']\n",
    "        theme_list.append(theme)\n",
    "        active.append(status)\n",
    "        text = get_clean_text(url)\n",
    "        texts.append(text)\n",
    "        doc = nlp(text)\n",
    "        lang_dict = doc._.language\n",
    "        languages.append(lang_dict['language'])"
   ]
  },
  {
   "cell_type": "markdown",
   "id": "3f291b1b",
   "metadata": {},
   "source": [
    "**<font color='teal'>Here I will save the data to a .csv file.</font>**"
   ]
  },
  {
   "cell_type": "code",
   "execution_count": 25,
   "id": "443576f5",
   "metadata": {},
   "outputs": [],
   "source": [
    "df = pd.DataFrame({'project_id':project_ids, 'active': active, 'language': languages, 'text':texts, 'theme': theme_list})\n",
    "df.to_csv('../data/raw/data3.csv')"
   ]
  },
  {
   "cell_type": "markdown",
   "id": "a956e537",
   "metadata": {},
   "source": [
    "**<font color='teal'>Here I will only grab those texts that are in English. Only 29 projects out of the 37911 projects are in a language other than English.</font>**"
   ]
  },
  {
   "cell_type": "code",
   "execution_count": 72,
   "id": "8b2c31fb",
   "metadata": {},
   "outputs": [],
   "source": [
    "df = df[df['language'] == 'en']"
   ]
  },
  {
   "cell_type": "code",
   "execution_count": 73,
   "id": "0c1c6521",
   "metadata": {},
   "outputs": [],
   "source": [
    "X = df['text']\n",
    "y = df['theme']"
   ]
  }
 ],
 "metadata": {
  "kernelspec": {
   "display_name": "topic_classification",
   "language": "python",
   "name": "topic_classification"
  },
  "language_info": {
   "codemirror_mode": {
    "name": "ipython",
    "version": 3
   },
   "file_extension": ".py",
   "mimetype": "text/x-python",
   "name": "python",
   "nbconvert_exporter": "python",
   "pygments_lexer": "ipython3",
   "version": "3.9.7"
  }
 },
 "nbformat": 4,
 "nbformat_minor": 5
}
